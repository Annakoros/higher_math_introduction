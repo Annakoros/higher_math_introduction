{
 "cells": [
  {
   "cell_type": "code",
   "execution_count": 9,
   "id": "8d633c35",
   "metadata": {},
   "outputs": [
    {
     "data": {
      "text/plain": [
       "(78.04003601545995, 81.95996398454005)"
      ]
     },
     "execution_count": 9,
     "metadata": {},
     "output_type": "execute_result"
    }
   ],
   "source": [
    "#Задача 1\n",
    "#Известно, что генеральная совокупность распределена нормально с известным средним квадратическим отклонением 16. \n",
    "#Найти доверительный интервал для оценки математического ожидания mu с надёжностью 0.95, если выборочное среднее равно 80, \n",
    "#а объём равен 256.\n",
    "import numpy as np\n",
    "import scipy.stats as sps\n",
    "\n",
    "mean = 80\n",
    "std = 16\n",
    "p = 0.95\n",
    "n = 256\n",
    "\n",
    "alpha = 1 - p\n",
    "t1 = sps.norm.ppf(alpha/2)\n",
    "t2 = sps.norm.ppf(1 - alpha/2)\n",
    "t1, t2\n",
    "\n",
    "(mean + t1 * std / np.sqrt(n), mean + t2 * std / np.sqrt(n))"
   ]
  },
  {
   "cell_type": "code",
   "execution_count": 27,
   "id": "8bd4ef47",
   "metadata": {},
   "outputs": [
    {
     "name": "stdout",
     "output_type": "stream",
     "text": [
      "Гипотеза о среднем весе пачки печенья равном 200 г - верна\n",
      "Значение статистики -1.1227217828476797\n",
      "p-value = 0.2906124467109305\n"
     ]
    },
    {
     "data": {
      "image/png": "[encoded data removed]",
      "text/plain": [
       "<Figure size 432x288 with 1 Axes>"
      ]
     },
     "metadata": {},
     "output_type": "display_data"
    }
   ],
   "source": [
    "#Задача 2\n",
    "#Продавец утверждает, что средний вес пачки печенья составляет 200 г. Из партии извлечена выборка из 10 пачек. \n",
    "#Вес каждой пачки составляет:\n",
    "#202, 203, 199, 197, 195, 201, 200, 204, 194, 190\n",
    "#Известно, что их веса распределены нормально.\n",
    "#1. Верно ли утверждение продавца, если учитывать, что уровень значимости равен 1%?\n",
    "#2. Найдите P-значение для данного теста.\n",
    "\n",
    "samples = np.array([202, 203, 199, 197, 195, 201, 200, 204, 194, 190])\n",
    "mean = samples.mean()\n",
    "std = samples.std()\n",
    "n = samples.shape[0]\n",
    "\n",
    "alpha = 0.01\n",
    "mean, std\n",
    "\n",
    "t = (mean - 200) / (std/np.sqrt(n))\n",
    "t1 = sps.norm.ppf(alpha/2)\n",
    "t2 = sps.norm.ppf(1 - alpha/2)\n",
    "\n",
    "if (t < t1) or (t > t2):\n",
    "    print('Гипотеза о среднем весе пачки печенья равном 200 г - неверна')\n",
    "else:\n",
    "    print('Гипотеза о среднем весе пачки печенья равном 200 г - верна')\n",
    "\n",
    "print(f'Значение статистики {t}')\n",
    "\n",
    "from matplotlib import pyplot as plt\n",
    "plt.style.use('seaborn-whitegrid')\n",
    "\n",
    "ox = np.linspace(-4, 4, 500)\n",
    "oy = sps.norm.pdf(ox)\n",
    "ox_left = np.linspace(-4, t1, 100)\n",
    "oy_left = sps.norm.pdf(ox_left)\n",
    "ox_right = np.linspace(t2, 4, 100)\n",
    "oy_right = sps.norm.pdf(ox_right)\n",
    "plt.plot(ox, oy)\n",
    "plt.fill_between(ox_left, oy_left, alpha=0.5, color='C0')\n",
    "plt.fill_between(ox_right, oy_right, alpha=0.5, color='C0')\n",
    "\n",
    "#p-value\n",
    "p_left = sps.t.cdf(t, df=n - 1)\n",
    "p_right = 1 - sps.t.cdf(t, df=n - 1)\n",
    "pvalue = 2 * min(p_left, p_right)\n",
    "print(f'p-value = {pvalue}')"
   ]
  },
  {
   "cell_type": "code",
   "execution_count": 30,
   "id": "84e4b5c8",
   "metadata": {},
   "outputs": [
    {
     "name": "stdout",
     "output_type": "stream",
     "text": [
      "Гипотеза неверна\n",
      "0.007031298460574598 0.025\n"
     ]
    }
   ],
   "source": [
    "#Задача 3\n",
    "#Утверждается, что шарики для подшипников, изготовленные автоматическим станком, имеют средний диаметр 17 мм. \n",
    "#Используя уровень значимости 0.025 и правостороннюю критическую область, проверить данную гипотезу при условии, \n",
    "#что в выборке из 100 шариков средний диаметр оказался равным 17.5 мм, а дисперсия известна и равна 4 мм.\n",
    "\n",
    "mean = 17.5\n",
    "alpha = 0.025\n",
    "n = 100\n",
    "x_obs = 17.5\n",
    "std = np.sqrt(4)\n",
    "\n",
    "z = (mean - 17) / (std/np.sqrt(n))\n",
    "p_right = 1 - sps.t.cdf(z, df=n - 1)\n",
    "\n",
    "if p_right < alpha:\n",
    "    print('Гипотеза неверна')\n",
    "else:\n",
    "    print('Гипотеза верна')\n",
    "print(p_right, alpha)"
   ]
  },
  {
   "cell_type": "code",
   "execution_count": 40,
   "id": "43e1024f",
   "metadata": {},
   "outputs": [
    {
     "name": "stdout",
     "output_type": "stream",
     "text": [
      "Гипотеза верна\n",
      "11.688551922452438 38.0756272503558 28.720541753333343\n"
     ]
    },
    {
     "data": {
      "text/plain": [
       "<matplotlib.collections.PolyCollection at 0x29fbc0a6520>"
      ]
     },
     "execution_count": 40,
     "metadata": {},
     "output_type": "execute_result"
    },
    {
     "data": {
      "image/png": "[encoded data removed]",
      "text/plain": [
       "<Figure size 432x288 with 1 Axes>"
      ]
     },
     "metadata": {},
     "output_type": "display_data"
    }
   ],
   "source": [
    "#Задача 4 (Дополнительно)\n",
    "#Дана выборка диаметров подшипников из примера 1 с занятия 5:\n",
    "#samples = [0.6603, 0.9466, 0.5968, 1.3792, 1.5481, 0.7515, 1.0681, 1.1134,\n",
    "#1.2088, 1.701 , 1.0282, 1.3579, 1.0191, 1.1784, 1.1168, 1.1372,\n",
    "#0.7273, 1.3958, 0.8665, 1.5112, 1.161 , 1.0232, 1.0865, 1.02 ]\n",
    "#Предполагая, что диаметры подшипников распределены нормально, проверьте гипотезу о том, \n",
    "#что дисперсия случайной величины равна 0.0625 при уровне значимости alpha = 0.05. \n",
    "#Что для этого нужно знать:\n",
    "#1. Альтернативная гипотеза двухсторонняя.\n",
    "#2. Статистика для теста: H = (n - 1) * sample_variance / variance, где n - число элементов в выборке, \n",
    "#sample_variance - несмещённая оценка дисперсии, variance - утверждаемая нулевой гипотезой дисперсия.\n",
    "#3. Эта статистика в предположении верности нулевой гипотезы имеет распределение хи-квадрат с параметром df = n - 1. \n",
    "#Её квантили можно найти с помощью функции scipy.stats.chi2.ppf.\n",
    "\n",
    "samples = np.array([0.6603, 0.9466, 0.5968, 1.3792, 1.5481, 0.7515, 1.0681, 1.1134, \n",
    "                    1.2088, 1.701 , 1.0282, 1.3579, 1.0191, 1.1784, 1.1168, 1.1372,\n",
    "                    0.7273, 1.3958, 0.8665, 1.5112, 1.161 , 1.0232, 1.0865, 1.02])\n",
    "alpha = 0.05\n",
    "variance = 0.0625\n",
    "sample_variance = samples.var(ddof=1)\n",
    "n = samples.shape[0]\n",
    "mean = samples.mean()\n",
    "\n",
    "H = (n - 1) * sample_variance / variance\n",
    "\n",
    "#p_left = sps.chi2.ppf(H, df=n - 1)\n",
    "#p_right = 1 - sps.chi2.ppf(H, df=n - 1)\n",
    "#pvalue = 2 * min(p_left, p_right)\n",
    "\n",
    "#scipy.stats.chi2.ppf\n",
    "\n",
    "t1 = sps.chi2.ppf(alpha/2, df = n - 1)\n",
    "t2 = sps.chi2.ppf(1 - alpha/2, df = n - 1)\n",
    "\n",
    "\n",
    "if (H < t1) or (H > t2):\n",
    "    print('Гипотеза неверна')\n",
    "else:\n",
    "    print('Гипотеза верна')\n",
    "\n",
    "print(t1, t2, H)\n",
    "\n",
    "plt.style.use('seaborn-whitegrid')\n",
    "\n",
    "ox = np.linspace(-4, 4, 500)\n",
    "oy = sps.chi2.pdf(ox, df = n-1)\n",
    "ox_left = np.linspace(-4, t1, 100)\n",
    "oy_left = sps.chi2.pdf(ox_left, df = n-1)\n",
    "ox_right = np.linspace(t2, 4, 100)\n",
    "oy_right = sps.chi2.pdf(ox_right, df = n-1)\n",
    "plt.plot(ox, oy)\n",
    "plt.fill_between(ox_left, oy_left, alpha=0.5, color='C0')\n",
    "plt.fill_between(ox_right, oy_right, alpha=0.5, color='C0')\n"
   ]
  },
  {
   "cell_type": "code",
   "execution_count": null,
   "id": "728a18f1",
   "metadata": {},
   "outputs": [],
   "source": []
  }
 ],
 "metadata": {
  "kernelspec": {
   "display_name": "Python 3",
   "language": "python",
   "name": "python3"
  },
  "language_info": {
   "codemirror_mode": {
    "name": "ipython",
    "version": 3
   },
   "file_extension": ".py",
   "mimetype": "text/x-python",
   "name": "python",
   "nbconvert_exporter": "python",
   "pygments_lexer": "ipython3",
   "version": "3.8.8"
  }
 },
 "nbformat": 4,
 "nbformat_minor": 5
}
