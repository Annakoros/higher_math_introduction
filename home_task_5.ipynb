{
 "cells": [
  {
   "cell_type": "code",
   "execution_count": 1,
   "id": "06ab1461",
   "metadata": {},
   "outputs": [],
   "source": [
    "%matplotlib inline\n",
    "import numpy as np"
   ]
  },
  {
   "cell_type": "code",
   "execution_count": 6,
   "id": "a43530ab",
   "metadata": {},
   "outputs": [
    {
     "name": "stdout",
     "output_type": "stream",
     "text": [
      "\n",
      "33\n",
      "black\n",
      "\n",
      "12\n",
      "red\n",
      "\n",
      "34\n",
      "red\n",
      "\n",
      "34\n",
      "red\n",
      "\n",
      "20\n",
      "black\n"
     ]
    }
   ],
   "source": [
    "# 1. Напишите код, моделирующий выпадение поля в рулетке (с учетом поля зеро)\n",
    "%matplotlib inline\n",
    "import numpy as np\n",
    "for i in range(0, 5):\n",
    "      a = input()\n",
    "    num = np.random.uniform(0, 37)\n",
    "    print(int(num))\n",
    "    if num==0:\n",
    "      print(\"green\")\n",
    "    elif int(num) in (1, 3, 5, 7, 9, 12, 14, 16, 18, 19, 21, 23, 25, 27, 30, 32, 34, 36):\n",
    "        print(\"red\")\n",
    "    else:\n",
    "        print(\"black\")"
   ]
  },
  {
   "cell_type": "code",
   "execution_count": 25,
   "id": "6abc1345",
   "metadata": {},
   "outputs": [
    {
     "name": "stdout",
     "output_type": "stream",
     "text": [
      "True\n",
      "Вероятность выпадения красных 0.5, вероятность выпадения черных 0.49, вероятность выпадения не зеро - 0.99\n",
      "Зеро выпало 1 раз(а) из 100\n"
     ]
    }
   ],
   "source": [
    "# 2.1. Проверка теоремы сложения вероятностей на примере рулетки\n",
    "pr, rd, blck, zr = 0, 0, 0, 0\n",
    "n = 100\n",
    "#last = 'none'\n",
    "#Это была переменная для проверки теоремы умножения, но по какой-то причине не работало.\n",
    "for i in range(0, n):\n",
    "    x = np.random.uniform(0, 37)\n",
    "    if int(x)==0:\n",
    "        zr += 1\n",
    "#        last = 'zero'\n",
    "    elif int(x) in (1, 3, 5, 7, 9, 12, 14, 16, 18, 19, 21, 23, 25, 27, 30, 32, 34, 36):\n",
    "        rd += 1\n",
    "#        if last == 'red':\n",
    "        pr += 1\n",
    "#        last = 'red'\n",
    "    else:\n",
    "        blck += 1\n",
    "        pr += 1\n",
    "#        last = 'black' \n",
    "if (rd/100)+(blck/100)==(pr/100):\n",
    "  print(True)\n",
    "else:\n",
    "  print(False)\n",
    "print(f'Вероятность выпадения красных {rd/100}, вероятность выпадения черных {blck/100}, вероятность выпадения не зеро - {pr/100}')\n",
    "print(f'Зеро выпало {zr} раз(а) из 100')"
   ]
  },
  {
   "cell_type": "code",
   "execution_count": 29,
   "id": "42bc8a39",
   "metadata": {},
   "outputs": [
    {
     "data": {
      "text/plain": [
       "Text(0.5, 1.0, 'Histogram')"
      ]
     },
     "execution_count": 29,
     "metadata": {},
     "output_type": "execute_result"
    },
    {
     "data": {
      "image/png": "[encoded data removed]",
      "text/plain": [
       "<Figure size 432x288 with 1 Axes>"
      ]
     },
     "metadata": {
      "needs_background": "light"
     },
     "output_type": "display_data"
    }
   ],
   "source": [
    "# 2.2. Сгенерируйте десять выборок случайных чисел х0, …, х9. \n",
    "# и постройте гистограмму распределения случайной суммы  x0 + х1 + … + х9\n",
    "%matplotlib inline\n",
    "import numpy as np\n",
    "import matplotlib.pyplot as plt\n",
    "import matplotlib.mlab as mlab\n",
    "\n",
    "allsums=[]\n",
    "for i in range(11):\n",
    "    x=np.random.rand(10)\n",
    "    allsums.append(sum(x))\n",
    "    i+=1\n",
    "num_bins = 10\n",
    "n, bins, patches = plt.hist(allsums, num_bins)\n",
    "plt.xlabel('summa')\n",
    "plt.ylabel('Probability')\n",
    "plt.title('Histogram')"
   ]
  },
  {
   "cell_type": "code",
   "execution_count": 1,
   "id": "e8f2f4f9",
   "metadata": {},
   "outputs": [
    {
     "name": "stdout",
     "output_type": "stream",
     "text": [
      "[0 1 1 0 1 0 0 1 0 0 0 0 1 0 1 1 0 1 0 0] [0 0 0 1 0 1 1 0 1 1 0 1 1 0 0 0 1 1 0 0] 6.0 [0 0 0 0 1 0 0 1 1 0 1 0 1 1 1 0 0 0 1 1]\n",
      "[0 1 2 2 2 1 1 2 3 1 1 1 3 1 3 2 1 3 1 2]\n",
      "число пападаний 6, число испытаний 20, вероятность 0.3, вероятность по ф-ле биномиального распределения 0.2109375\n"
     ]
    }
   ],
   "source": [
    "#3.1. Дополните код Монте-Карло последовательности независимых испытаний расчетом соответствующих вероятностей \n",
    "# (через биномиальное распределение) и сравните результаты.\n",
    "import numpy as np\n",
    "import itertools\n",
    "import math\n",
    "import sys\n",
    "\n",
    "k, n = 0, 20\n",
    "a = np.random.randint(0, 2, n)\n",
    "b = np.random.randint(0, 2, n)\n",
    "c = np.random.randint(0, 2, n)\n",
    "d = np.random.randint(0, 2, n)\n",
    "x = a + b + c + d\n",
    "for i in range(0, n):\n",
    "    if x[i] == 2:\n",
    "        k = k + 1\n",
    "v = (0.5**k)*(0.5**(n-k))\n",
    "c = np.math.factorial(4)/(np.math.factorial(2)*np.math.factorial(2))\n",
    "p = 0.5**2\n",
    "q = 1 - p\n",
    "pkn = c*(p**2)*(q**2)\n",
    "print(a, b, c, d)\n",
    "print(x)\n",
    "print(f'число пападаний {k}, число испытаний {n}, вероятность {k/n}, вероятность по ф-ле биномиального распределения {pkn}')"
   ]
  },
  {
   "cell_type": "code",
   "execution_count": 13,
   "id": "3ec4063e",
   "metadata": {},
   "outputs": [
    {
     "name": "stdout",
     "output_type": "stream",
     "text": [
      "число пападаний 25, число испытаний 100, вероятность 0.25, вероятность по ф-ле биномиального распределения 0.000\n"
     ]
    }
   ],
   "source": [
    "#3.2. Повторите расчеты биномиальных коэффициентов и вероятностей k успехов в последовательности из n независимых испытаний, \n",
    "# взяв другие значения n и k.\n",
    "import numpy as np\n",
    "import itertools\n",
    "import math\n",
    "import sys\n",
    "\n",
    "k, n = 0, 100\n",
    "a = np.random.randint(0, 2, n)\n",
    "b = np.random.randint(0, 2, n)\n",
    "c = np.random.randint(0, 2, n)\n",
    "d = np.random.randint(0, 2, n)\n",
    "x = a + b + c + d\n",
    "for i in range(0, n):\n",
    "    if x[i] == 3:\n",
    "        k = k + 1\n",
    "c = np.math.factorial(4)/(np.math.factorial(3)*np.math.factorial(4-1))\n",
    "p = 0.5**3\n",
    "q = 1 - p\n",
    "pkn = c*(p**3)*(q**(4-3))\n",
    "#print(a, b, c, d)\n",
    "#print(x)(\n",
    "print(f'число пападаний {k}, число испытаний {n}, вероятность {k/n}, вероятность по ф-ле биномиального распределения {\"%.3f\" % round(pkn,2)}')"
   ]
  },
  {
   "cell_type": "code",
   "execution_count": 15,
   "id": "7b7dfcf9",
   "metadata": {},
   "outputs": [
    {
     "name": "stdout",
     "output_type": "stream",
     "text": [
      "012\n",
      "013\n",
      "014\n",
      "021\n",
      "023\n",
      "024\n",
      "031\n",
      "032\n",
      "034\n",
      "041\n",
      "042\n",
      "043\n",
      "102\n",
      "103\n",
      "104\n",
      "120\n",
      "123\n",
      "124\n",
      "130\n",
      "132\n",
      "134\n",
      "140\n",
      "142\n",
      "143\n",
      "201\n",
      "203\n",
      "204\n",
      "210\n",
      "213\n",
      "214\n",
      "230\n",
      "231\n",
      "234\n",
      "240\n",
      "241\n",
      "243\n",
      "301\n",
      "302\n",
      "304\n",
      "310\n",
      "312\n",
      "314\n",
      "320\n",
      "321\n",
      "324\n",
      "340\n",
      "341\n",
      "342\n",
      "401\n",
      "402\n",
      "403\n",
      "410\n",
      "412\n",
      "413\n",
      "420\n",
      "421\n",
      "423\n",
      "430\n",
      "431\n",
      "432\n",
      "-------------------------\n",
      "012\n",
      "013\n",
      "014\n",
      "023\n",
      "024\n",
      "034\n",
      "123\n",
      "124\n",
      "134\n",
      "234\n"
     ]
    }
   ],
   "source": [
    "#4. (не обязательно, но желательно) Из урока по комбинаторике повторите расчеты, \n",
    "# сгенерировав возможные варианты перестановок для других значений n и k\n",
    "for p in itertools.permutations(\"01234\",3):\n",
    "    print(''.join(str(x) for x in p)) \n",
    "print('-'*25)\n",
    "for p in itertools.combinations(\"01234\",3):\n",
    "    print(''.join(p)) "
   ]
  },
  {
   "cell_type": "code",
   "execution_count": 20,
   "id": "98684ed7",
   "metadata": {},
   "outputs": [
    {
     "name": "stdout",
     "output_type": "stream",
     "text": [
      "0.7371403150688963 0.11533300966726898\n",
      "0.6606605365247171 0.15706411251245744\n"
     ]
    },
    {
     "data": {
      "image/png": "[encoded data removed]",
      "text/plain": [
       "<Figure size 432x288 with 1 Axes>"
      ]
     },
     "metadata": {
      "needs_background": "light"
     },
     "output_type": "display_data"
    },
    {
     "name": "stdout",
     "output_type": "stream",
     "text": [
      "Коэффициент корреляции: 0.9248606188110111\n"
     ]
    }
   ],
   "source": [
    "#5. (не обязательно) Дополните код расчетом коэффициента корреляции x и y по формуле\n",
    "%matplotlib inline\n",
    "import numpy as np\n",
    "import matplotlib.pyplot as plt\n",
    "\n",
    "n = 100\n",
    "r = 0.7\n",
    "x = np.random.rand(n)\n",
    "y = r*x + (1 - r)*np.random.rand(n)\n",
    "plt.plot(x, y, 'o')\n",
    "plt.xlabel('x')\n",
    "plt.ylabel('y')\n",
    "plt.grid(True)\n",
    "\n",
    "a = (np.sum(x)*np.sum(y) - n*np.sum(x*y))/(np.sum(x)*np.sum(x) - n*np.sum(x*x))\n",
    "b = (np.sum(y) - a*np.sum(x))/n\n",
    "\n",
    "#A = np.vstack([x, np.ones(len(x))]).T\n",
    "#a1, b1 = np.linalg.lstsq(A, y)[0]\n",
    "print(a, b)\n",
    "print(a1, b1)\n",
    "plt.plot([0, 1], [b, a + b])\n",
    "plt.show()\n",
    "\n",
    "xm=np.sum(x)/n\n",
    "ym=np.sum(y)/n\n",
    "r = np.sum((x-xm)*(y-ym))/np.sqrt(np.sum((x-xm)**2)*np.sum((y-ym)**2))\n",
    "print(f'Коэффициент корреляции: {r}')"
   ]
  },
  {
   "cell_type": "code",
   "execution_count": null,
   "id": "a6562402",
   "metadata": {},
   "outputs": [],
   "source": []
  }
 ],
 "metadata": {
  "kernelspec": {
   "display_name": "Python 3",
   "language": "python",
   "name": "python3"
  },
  "language_info": {
   "codemirror_mode": {
    "name": "ipython",
    "version": 3
   },
   "file_extension": ".py",
   "mimetype": "text/x-python",
   "name": "python",
   "nbconvert_exporter": "python",
   "pygments_lexer": "ipython3",
   "version": "3.8.8"
  }
 },
 "nbformat": 4,
 "nbformat_minor": 5
}
