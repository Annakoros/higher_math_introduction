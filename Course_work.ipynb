{
 "cells": [
  {
   "cell_type": "markdown",
   "id": "8714434b",
   "metadata": {},
   "source": [
    "# Курсовая работа по предмету основы теории вероятности и математической статистики\n",
    "\n",
    "Для работы взят датасет с данными по демографии в РФ за период 1990 - 2017 гг по регионам.\n",
    "Проанализируем их. Все вместе, а также по отдельным годам - для сравнения."
   ]
  },
  {
   "cell_type": "code",
   "execution_count": 18,
   "id": "105f830c",
   "metadata": {},
   "outputs": [],
   "source": [
    "import pandas as pd\n",
    "import numpy as np"
   ]
  },
  {
   "cell_type": "code",
   "execution_count": 19,
   "id": "860c0e42",
   "metadata": {},
   "outputs": [
    {
     "data": {
      "text/html": [
       "<div>\n",
       "<style scoped>\n",
       "    .dataframe tbody tr th:only-of-type {\n",
       "        vertical-align: middle;\n",
       "    }\n",
       "\n",
       "    .dataframe tbody tr th {\n",
       "        vertical-align: top;\n",
       "    }\n",
       "\n",
       "    .dataframe thead th {\n",
       "        text-align: right;\n",
       "    }\n",
       "</style>\n",
       "<table border=\"1\" class=\"dataframe\">\n",
       "  <thead>\n",
       "    <tr style=\"text-align: right;\">\n",
       "      <th></th>\n",
       "      <th>year</th>\n",
       "      <th>region</th>\n",
       "      <th>npg</th>\n",
       "      <th>birth_rate</th>\n",
       "      <th>death_rate</th>\n",
       "      <th>gdw</th>\n",
       "      <th>urbanization</th>\n",
       "    </tr>\n",
       "  </thead>\n",
       "  <tbody>\n",
       "    <tr>\n",
       "      <th>0</th>\n",
       "      <td>1990</td>\n",
       "      <td>Republic of Adygea</td>\n",
       "      <td>1.9</td>\n",
       "      <td>14.2</td>\n",
       "      <td>12.3</td>\n",
       "      <td>84.66</td>\n",
       "      <td>52.42</td>\n",
       "    </tr>\n",
       "    <tr>\n",
       "      <th>1</th>\n",
       "      <td>1990</td>\n",
       "      <td>Altai Krai</td>\n",
       "      <td>1.8</td>\n",
       "      <td>12.9</td>\n",
       "      <td>11.1</td>\n",
       "      <td>80.24</td>\n",
       "      <td>58.07</td>\n",
       "    </tr>\n",
       "    <tr>\n",
       "      <th>2</th>\n",
       "      <td>1990</td>\n",
       "      <td>Amur Oblast</td>\n",
       "      <td>7.6</td>\n",
       "      <td>16.2</td>\n",
       "      <td>8.6</td>\n",
       "      <td>69.55</td>\n",
       "      <td>68.37</td>\n",
       "    </tr>\n",
       "    <tr>\n",
       "      <th>3</th>\n",
       "      <td>1990</td>\n",
       "      <td>Arkhangelsk Oblast</td>\n",
       "      <td>3.7</td>\n",
       "      <td>13.5</td>\n",
       "      <td>9.8</td>\n",
       "      <td>73.26</td>\n",
       "      <td>73.63</td>\n",
       "    </tr>\n",
       "    <tr>\n",
       "      <th>4</th>\n",
       "      <td>1990</td>\n",
       "      <td>Astrakhan Oblast</td>\n",
       "      <td>4.7</td>\n",
       "      <td>15.1</td>\n",
       "      <td>10.4</td>\n",
       "      <td>77.05</td>\n",
       "      <td>68.01</td>\n",
       "    </tr>\n",
       "    <tr>\n",
       "      <th>...</th>\n",
       "      <td>...</td>\n",
       "      <td>...</td>\n",
       "      <td>...</td>\n",
       "      <td>...</td>\n",
       "      <td>...</td>\n",
       "      <td>...</td>\n",
       "      <td>...</td>\n",
       "    </tr>\n",
       "    <tr>\n",
       "      <th>2263</th>\n",
       "      <td>2017</td>\n",
       "      <td>Chuvash Republic</td>\n",
       "      <td>-1.3</td>\n",
       "      <td>11.3</td>\n",
       "      <td>12.6</td>\n",
       "      <td>76.63</td>\n",
       "      <td>62.00</td>\n",
       "    </tr>\n",
       "    <tr>\n",
       "      <th>2264</th>\n",
       "      <td>2017</td>\n",
       "      <td>Chukotka Autonomous Okrug</td>\n",
       "      <td>3.7</td>\n",
       "      <td>13.1</td>\n",
       "      <td>9.4</td>\n",
       "      <td>58.23</td>\n",
       "      <td>70.00</td>\n",
       "    </tr>\n",
       "    <tr>\n",
       "      <th>2265</th>\n",
       "      <td>2017</td>\n",
       "      <td>Sakha (Yakutia) Republic</td>\n",
       "      <td>6.4</td>\n",
       "      <td>14.5</td>\n",
       "      <td>8.1</td>\n",
       "      <td>70.10</td>\n",
       "      <td>65.50</td>\n",
       "    </tr>\n",
       "    <tr>\n",
       "      <th>2266</th>\n",
       "      <td>2017</td>\n",
       "      <td>Yamalo-Nenets Autonomous Okrug</td>\n",
       "      <td>9.1</td>\n",
       "      <td>14.0</td>\n",
       "      <td>4.9</td>\n",
       "      <td>53.57</td>\n",
       "      <td>83.70</td>\n",
       "    </tr>\n",
       "    <tr>\n",
       "      <th>2267</th>\n",
       "      <td>2017</td>\n",
       "      <td>Yaroslavl Oblast</td>\n",
       "      <td>-4.7</td>\n",
       "      <td>10.5</td>\n",
       "      <td>15.2</td>\n",
       "      <td>82.61</td>\n",
       "      <td>81.70</td>\n",
       "    </tr>\n",
       "  </tbody>\n",
       "</table>\n",
       "<p>2268 rows × 7 columns</p>\n",
       "</div>"
      ],
      "text/plain": [
       "      year                          region  npg  birth_rate  death_rate  \\\n",
       "0     1990              Republic of Adygea  1.9        14.2        12.3   \n",
       "1     1990                      Altai Krai  1.8        12.9        11.1   \n",
       "2     1990                     Amur Oblast  7.6        16.2         8.6   \n",
       "3     1990              Arkhangelsk Oblast  3.7        13.5         9.8   \n",
       "4     1990                Astrakhan Oblast  4.7        15.1        10.4   \n",
       "...    ...                             ...  ...         ...         ...   \n",
       "2263  2017                Chuvash Republic -1.3        11.3        12.6   \n",
       "2264  2017       Chukotka Autonomous Okrug  3.7        13.1         9.4   \n",
       "2265  2017        Sakha (Yakutia) Republic  6.4        14.5         8.1   \n",
       "2266  2017  Yamalo-Nenets Autonomous Okrug  9.1        14.0         4.9   \n",
       "2267  2017                Yaroslavl Oblast -4.7        10.5        15.2   \n",
       "\n",
       "        gdw  urbanization  \n",
       "0     84.66         52.42  \n",
       "1     80.24         58.07  \n",
       "2     69.55         68.37  \n",
       "3     73.26         73.63  \n",
       "4     77.05         68.01  \n",
       "...     ...           ...  \n",
       "2263  76.63         62.00  \n",
       "2264  58.23         70.00  \n",
       "2265  70.10         65.50  \n",
       "2266  53.57         83.70  \n",
       "2267  82.61         81.70  \n",
       "\n",
       "[2268 rows x 7 columns]"
      ]
     },
     "execution_count": 19,
     "metadata": {},
     "output_type": "execute_result"
    }
   ],
   "source": [
    "demography_df = pd.read_csv('russian_demography.csv')\n",
    "demography_df.head()\n",
    "demography_df.drop_duplicates()"
   ]
  },
  {
   "cell_type": "markdown",
   "id": "6864b683",
   "metadata": {},
   "source": [
    "В датасете содержатся столбцы: год (year), название региона (region), естественный прирост населения (npg), уровень рождаемости(birth_rate), уровень смертности (death_rate), общий демографический вес (сколько людей невокингового возраста составляют 100 человек трудоспособного) (gdw), процент городского населения (urbanisation).\n",
    "\n",
    "Каждый год занимает 85 строк (по количеству субъектов РФ)."
   ]
  },
  {
   "cell_type": "markdown",
   "id": "bc02792e",
   "metadata": {},
   "source": [
    "Наиболее интересным является столбец естественного прироста населения. Поэтому найдем статистические параметры этих данных."
   ]
  },
  {
   "cell_type": "code",
   "execution_count": 22,
   "id": "4c74dcf5",
   "metadata": {},
   "outputs": [
    {
     "name": "stdout",
     "output_type": "stream",
     "text": [
      "Средний прирост населения в 1990 году: 3.582352941176471\n",
      "Средний прирост населения в 1991 году: 1.8058823529411772\n",
      "Средний прирост населения в 1992 году: -0.7964705882352939\n",
      "Средний прирост населения в 1993 году: -3.7094117647058837\n",
      "Средний прирост населения в 1994 году: -4.710588235294117\n",
      "Средний прирост населения в 1995 году: -4.474117647058824\n",
      "Средний прирост населения в 1996 году: -4.550588235294119\n",
      "Средний прирост населения в 1997 году: -4.243529411764707\n",
      "Средний прирост населения в 1998 году: -4.639999999999999\n",
      "Средний прирост населения в 1999 году: -5.736470588235294\n",
      "Средний прирост населения в 2000 году: -5.912941176470589\n",
      "Средний прирост населения в 2001 году: -5.988235294117648\n",
      "Средний прирост населения в 2002 году: -5.941176470588234\n",
      "Средний прирост населения в 2003 году: -5.428235294117646\n",
      "Средний прирост населения в 2004 году: -5.63529411764706\n",
      "Средний прирост населения в 2005 году: -4.863529411764705\n",
      "Средний прирост населения в 2006 году: -3.302352941176471\n",
      "Средний прирост населения в 2007 году: -2.403529411764705\n",
      "Средний прирост населения в 2008 году: -1.547058823529412\n",
      "Средний прирост населения в 2009 году: -1.3682352941176474\n",
      "Средний прирост населения в 2010 году: -0.9317647058823529\n",
      "Средний прирост населения в 2011 году: 0.02941176470588252\n",
      "Средний прирост населения в 2012 году: 0.0035294117647058226\n",
      "Средний прирост населения в 2013 году: 0.19176470588235295\n",
      "Средний прирост населения в 2014 году: 0.012941176470588147\n",
      "Средний прирост населения в 2015 году: -0.4552941176470588\n",
      "Средний прирост населения в 2016 году: -1.2431034482758623\n",
      "Средний прирост населения в 2017 году: nan\n",
      "Средний прирост населения 1990 - 2017 гг: -2.693209876543206\n"
     ]
    }
   ],
   "source": [
    "mean_arr = []\n",
    "for i in range(0,28):\n",
    "    npg_mean = demography_df.loc[(i*85):((i+1)*85 - 1),'npg'].mean()\n",
    "    mean_arr.append(npg_mean)\n",
    "    print(f'Средний прирост населения в {(i+1990)} году: {npg_mean}')\n",
    "npg_mean_ = demography_df['npg'].mean()\n",
    "print(f'Средний прирост населения 1990 - 2017 гг: {npg_mean_}')"
   ]
  },
  {
   "cell_type": "markdown",
   "id": "eb46afb8",
   "metadata": {},
   "source": [
    "Естественный прирост населения находится в линейной зависимости от уровня рождаемости и смертности.\n",
    "Поэтому проанализируем, как связан прирост населения с другими характеристиками: общим демографическим весом и уровнем урбанизации."
   ]
  },
  {
   "cell_type": "code",
   "execution_count": 23,
   "id": "379c0ddc",
   "metadata": {},
   "outputs": [
    {
     "data": {
      "text/plain": [
       "[<matplotlib.lines.Line2D at 0x2177dee92b0>]"
      ]
     },
     "execution_count": 23,
     "metadata": {},
     "output_type": "execute_result"
    },
    {
     "data": {
      "image/png": "[encoded data removed]",
      "text/plain": [
       "<Figure size 432x288 with 1 Axes>"
      ]
     },
     "metadata": {
      "needs_background": "light"
     },
     "output_type": "display_data"
    }
   ],
   "source": [
    "%matplotlib inline\n",
    "import numpy as np\n",
    "import matplotlib.pyplot as plt\n",
    "\n",
    "plt.plot(np.arange(1990, 2018), np.array(mean_arr))\n"
   ]
  },
  {
   "cell_type": "code",
   "execution_count": 24,
   "id": "eeaf0151",
   "metadata": {},
   "outputs": [
    {
     "data": {
      "text/plain": [
       "count    2268.000000\n",
       "mean       -2.693210\n",
       "std         5.515625\n",
       "min       -15.900000\n",
       "25%        -6.300000\n",
       "50%        -3.200000\n",
       "75%         0.600000\n",
       "max        19.900000\n",
       "Name: npg, dtype: float64"
      ]
     },
     "execution_count": 24,
     "metadata": {},
     "output_type": "execute_result"
    }
   ],
   "source": [
    "demography_df['npg'].describe()"
   ]
  },
  {
   "cell_type": "code",
   "execution_count": 25,
   "id": "a56de302",
   "metadata": {},
   "outputs": [
    {
     "data": {
      "text/plain": [
       "count    2268.000000\n",
       "mean       68.202443\n",
       "std        10.373001\n",
       "min        37.500000\n",
       "25%        61.185000\n",
       "50%        68.200000\n",
       "75%        76.495000\n",
       "max        95.050000\n",
       "Name: gdw, dtype: float64"
      ]
     },
     "execution_count": 25,
     "metadata": {},
     "output_type": "execute_result"
    }
   ],
   "source": [
    "demography_df['gdw'].describe()"
   ]
  },
  {
   "cell_type": "code",
   "execution_count": 26,
   "id": "b8a2c5dc",
   "metadata": {},
   "outputs": [
    {
     "data": {
      "text/plain": [
       "count    2268.000000\n",
       "mean       69.913276\n",
       "std        12.510606\n",
       "min        23.630000\n",
       "25%        63.540000\n",
       "50%        69.895000\n",
       "75%        77.732500\n",
       "max       100.000000\n",
       "Name: urbanization, dtype: float64"
      ]
     },
     "execution_count": 26,
     "metadata": {},
     "output_type": "execute_result"
    }
   ],
   "source": [
    "demography_df['urbanization'].describe()"
   ]
  },
  {
   "cell_type": "code",
   "execution_count": 27,
   "id": "ffa16ae8",
   "metadata": {},
   "outputs": [
    {
     "data": {
      "text/plain": [
       "(          npg       gdw\n",
       " npg  1.000000 -0.195547\n",
       " gdw -0.195547  1.000000,\n",
       "                    npg  urbanization\n",
       " npg           1.000000     -0.222125\n",
       " urbanization -0.222125      1.000000)"
      ]
     },
     "execution_count": 27,
     "metadata": {},
     "output_type": "execute_result"
    }
   ],
   "source": [
    "corr_matrix_gdw = demography_df.loc[:, ['npg', 'gdw']].corr()\n",
    "corr_matrix_urb = demography_df.loc[:, ['npg', 'urbanization']].corr()\n",
    "#coef_gdw = corr_matrix_gdw.loc['npg', 'gdw']\n",
    "#coef_urb = corr_matrix_urb.loc['npg', 'urbanization']\n",
    "#print(f'Коэффициенты корреляции прироста населения с демографическим весом и уровнем урбанизации {coef_gdw, coef_urb}')\n",
    "corr_matrix_gdw, corr_matrix_urb"
   ]
  },
  {
   "cell_type": "markdown",
   "id": "1c74a599",
   "metadata": {},
   "source": [
    "Можно сделать вывод, что прирост населения коррелирует с этими величинами в обратной зависимости.\n",
    "То есть, чем меньше неработающих приходится на работающих и чем меньше уровень урбанизации - тем больше прирост населения.\n",
    "Причем статистическая взаимосвязь прироста населения с уровнем урбанизации больше вдвое, чем с демографическим весом.\n",
    "\n",
    "Посчитаем ковариацию."
   ]
  },
  {
   "cell_type": "code",
   "execution_count": 28,
   "id": "f7e05cf2",
   "metadata": {},
   "outputs": [
    {
     "name": "stdout",
     "output_type": "stream",
     "text": [
      "-11.187957484465791 -15.327474834855439\n"
     ]
    }
   ],
   "source": [
    "X = demography_df['npg']\n",
    "Y1 = demography_df['gdw']\n",
    "Y2 = demography_df['urbanization']\n",
    "\n",
    "MX = X.mean()\n",
    "MY1 = Y1.mean()\n",
    "MY2 = Y2.mean()\n",
    "\n",
    "cov1 = ((X - MX) * (Y1 - MY1)).sum() / (X.shape[0] - 1)\n",
    "cov2 = ((X - MX) * (Y2 - MY2)).sum() / (X.shape[0] - 1)\n",
    "\n",
    "print(cov1, cov2)"
   ]
  },
  {
   "cell_type": "markdown",
   "id": "08bd2480",
   "metadata": {},
   "source": [
    "Разброс величин:"
   ]
  },
  {
   "cell_type": "code",
   "execution_count": 29,
   "id": "5fc4ef10",
   "metadata": {},
   "outputs": [
    {
     "data": {
      "text/plain": [
       "(30.42211532073182, 107.5991430381775, 156.51526579585985)"
      ]
     },
     "execution_count": 29,
     "metadata": {},
     "output_type": "execute_result"
    }
   ],
   "source": [
    "X.var(ddof=1), Y1.var(ddof=1), Y2.var(ddof=1)"
   ]
  },
  {
   "cell_type": "raw",
   "id": "31313d38",
   "metadata": {},
   "source": [
    "Разброс довольно велик. Посмотрим, какой вид распределения у данных, чтобы оценить возможность вычисления коэффициента Пирсона."
   ]
  },
  {
   "cell_type": "code",
   "execution_count": 30,
   "id": "3c36610a",
   "metadata": {},
   "outputs": [
    {
     "data": {
      "image/png": "[encoded data removed]",
      "text/plain": [
       "<Figure size 432x288 with 1 Axes>"
      ]
     },
     "metadata": {
      "needs_background": "light"
     },
     "output_type": "display_data"
    }
   ],
   "source": [
    "hx = X.hist()\n",
    "fig = hx.get_figure()"
   ]
  },
  {
   "cell_type": "code",
   "execution_count": 31,
   "id": "32f9747e",
   "metadata": {},
   "outputs": [
    {
     "data": {
      "image/png": "[encoded data removed]",
      "text/plain": [
       "<Figure size 432x288 with 1 Axes>"
      ]
     },
     "metadata": {
      "needs_background": "light"
     },
     "output_type": "display_data"
    }
   ],
   "source": [
    "hy1 = Y1.hist()\n",
    "fig = hy1.get_figure()"
   ]
  },
  {
   "cell_type": "code",
   "execution_count": 32,
   "id": "aed2a2a3",
   "metadata": {},
   "outputs": [
    {
     "data": {
      "image/png": "[encoded data removed]",
      "text/plain": [
       "<Figure size 432x288 with 1 Axes>"
      ]
     },
     "metadata": {
      "needs_background": "light"
     },
     "output_type": "display_data"
    }
   ],
   "source": [
    "hy2 = Y2.hist()\n",
    "fig = hy2.get_figure()"
   ]
  },
  {
   "cell_type": "markdown",
   "id": "212cf3bb",
   "metadata": {},
   "source": [
    "Видим, что сходство с распределением Гаусса не настолько сильно, чтобы воспользоваться методами для нормального распределения.\n",
    "\n",
    "Посчитаем коэффициент Кендалла."
   ]
  },
  {
   "cell_type": "code",
   "execution_count": 33,
   "id": "86f0ad18",
   "metadata": {},
   "outputs": [
    {
     "data": {
      "text/html": [
       "<div>\n",
       "<style scoped>\n",
       "    .dataframe tbody tr th:only-of-type {\n",
       "        vertical-align: middle;\n",
       "    }\n",
       "\n",
       "    .dataframe tbody tr th {\n",
       "        vertical-align: top;\n",
       "    }\n",
       "\n",
       "    .dataframe thead th {\n",
       "        text-align: right;\n",
       "    }\n",
       "</style>\n",
       "<table border=\"1\" class=\"dataframe\">\n",
       "  <thead>\n",
       "    <tr style=\"text-align: right;\">\n",
       "      <th></th>\n",
       "      <th>year</th>\n",
       "      <th>npg</th>\n",
       "      <th>birth_rate</th>\n",
       "      <th>death_rate</th>\n",
       "      <th>gdw</th>\n",
       "      <th>urbanization</th>\n",
       "    </tr>\n",
       "  </thead>\n",
       "  <tbody>\n",
       "    <tr>\n",
       "      <th>year</th>\n",
       "      <td>1.000000</td>\n",
       "      <td>0.086972</td>\n",
       "      <td>0.252182</td>\n",
       "      <td>0.051709</td>\n",
       "      <td>-0.206203</td>\n",
       "      <td>0.023906</td>\n",
       "    </tr>\n",
       "    <tr>\n",
       "      <th>npg</th>\n",
       "      <td>0.086972</td>\n",
       "      <td>1.000000</td>\n",
       "      <td>0.683878</td>\n",
       "      <td>-0.737808</td>\n",
       "      <td>-0.131288</td>\n",
       "      <td>-0.100936</td>\n",
       "    </tr>\n",
       "    <tr>\n",
       "      <th>birth_rate</th>\n",
       "      <td>0.252182</td>\n",
       "      <td>0.683878</td>\n",
       "      <td>1.000000</td>\n",
       "      <td>-0.415712</td>\n",
       "      <td>-0.150450</td>\n",
       "      <td>-0.137313</td>\n",
       "    </tr>\n",
       "    <tr>\n",
       "      <th>death_rate</th>\n",
       "      <td>0.051709</td>\n",
       "      <td>-0.737808</td>\n",
       "      <td>-0.415712</td>\n",
       "      <td>1.000000</td>\n",
       "      <td>0.079738</td>\n",
       "      <td>0.056544</td>\n",
       "    </tr>\n",
       "    <tr>\n",
       "      <th>gdw</th>\n",
       "      <td>-0.206203</td>\n",
       "      <td>-0.131288</td>\n",
       "      <td>-0.150450</td>\n",
       "      <td>0.079738</td>\n",
       "      <td>1.000000</td>\n",
       "      <td>-0.211265</td>\n",
       "    </tr>\n",
       "    <tr>\n",
       "      <th>urbanization</th>\n",
       "      <td>0.023906</td>\n",
       "      <td>-0.100936</td>\n",
       "      <td>-0.137313</td>\n",
       "      <td>0.056544</td>\n",
       "      <td>-0.211265</td>\n",
       "      <td>1.000000</td>\n",
       "    </tr>\n",
       "  </tbody>\n",
       "</table>\n",
       "</div>"
      ],
      "text/plain": [
       "                  year       npg  birth_rate  death_rate       gdw  \\\n",
       "year          1.000000  0.086972    0.252182    0.051709 -0.206203   \n",
       "npg           0.086972  1.000000    0.683878   -0.737808 -0.131288   \n",
       "birth_rate    0.252182  0.683878    1.000000   -0.415712 -0.150450   \n",
       "death_rate    0.051709 -0.737808   -0.415712    1.000000  0.079738   \n",
       "gdw          -0.206203 -0.131288   -0.150450    0.079738  1.000000   \n",
       "urbanization  0.023906 -0.100936   -0.137313    0.056544 -0.211265   \n",
       "\n",
       "              urbanization  \n",
       "year              0.023906  \n",
       "npg              -0.100936  \n",
       "birth_rate       -0.137313  \n",
       "death_rate        0.056544  \n",
       "gdw              -0.211265  \n",
       "urbanization      1.000000  "
      ]
     },
     "execution_count": 33,
     "metadata": {},
     "output_type": "execute_result"
    }
   ],
   "source": [
    "demography_df.corr(method='kendall')"
   ]
  },
  {
   "cell_type": "markdown",
   "id": "749b7244",
   "metadata": {},
   "source": [
    "Попробуем посмотреть на данные в срезе для одного года (1990, 2002, 2013, 2017).\n",
    "Вид распределения не Гауссов."
   ]
  },
  {
   "cell_type": "code",
   "execution_count": 34,
   "id": "1616c6fe",
   "metadata": {},
   "outputs": [
    {
     "data": {
      "image/png": "[encoded data removed]",
      "text/plain": [
       "<Figure size 432x288 with 1 Axes>"
      ]
     },
     "metadata": {
      "needs_background": "light"
     },
     "output_type": "display_data"
    }
   ],
   "source": [
    "for i in [0, 12, 23, 27]:\n",
    "    h_ = demography_df.loc[(i*81):((i+1)*81 - 1),'npg'].hist()\n",
    "    fig = h_.get_figure()"
   ]
  },
  {
   "cell_type": "markdown",
   "id": "256330e4",
   "metadata": {},
   "source": [
    "Корреляция прироста населения с общим демографическим весом и с урбанизацией по годам."
   ]
  },
  {
   "cell_type": "code",
   "execution_count": 58,
   "id": "1f0cc585",
   "metadata": {},
   "outputs": [
    {
     "name": "stdout",
     "output_type": "stream",
     "text": [
      "1990\n",
      "                   npg       gdw  urbanization\n",
      "npg           1.000000 -0.298638     -0.092318\n",
      "gdw          -0.298638  1.000000     -0.485485\n",
      "urbanization -0.092318 -0.485485      1.000000\n",
      "**************************************************\n",
      "2002\n",
      "                   npg       gdw  urbanization\n",
      "npg           1.000000 -0.373627     -0.123763\n",
      "gdw          -0.373627  1.000000     -0.352432\n",
      "urbanization -0.123763 -0.352432      1.000000\n",
      "**************************************************\n",
      "2013\n",
      "                   npg       gdw  urbanization\n",
      "npg           1.000000 -0.455427     -0.110352\n",
      "gdw          -0.455427  1.000000     -0.137952\n",
      "urbanization -0.110352 -0.137952      1.000000\n",
      "**************************************************\n",
      "2017\n",
      "                   npg       gdw  urbanization\n",
      "npg           1.000000 -0.469078     -0.044996\n",
      "gdw          -0.469078  1.000000     -0.126778\n",
      "urbanization -0.044996 -0.126778      1.000000\n",
      "**************************************************\n"
     ]
    }
   ],
   "source": [
    "for i in [0, 12, 23, 27]:\n",
    "    corr_matrix_ken = demography_df.loc[(i*81):((i+1)*81 - 1), ['npg', 'gdw', 'urbanization']].corr(method = 'kendall')\n",
    "    print(1990+i)\n",
    "    print(corr_matrix_ken)\n",
    "    print(\"*\" * 50)"
   ]
  },
  {
   "cell_type": "markdown",
   "id": "b68c1b1d",
   "metadata": {},
   "source": [
    "Проанализируем данные и узнаем:\n",
    "    \n",
    "1. Была ли в 1990 и в 2017 годах значима связь между приростом населения и демографическим показателем и уровнем урбанизации. ('npg', 'gdw', 'urbanization')\n",
    "\n",
    "2. Как изменились найденные статистические параметры за 27 лет."
   ]
  },
  {
   "cell_type": "markdown",
   "id": "0d5da533",
   "metadata": {},
   "source": [
    "\n",
    "\n",
    "Исследуем связь между приростом населения и демографическим показателем и уровнем урбанизации в 1990 году.\n",
    "\n"
   ]
  },
  {
   "cell_type": "code",
   "execution_count": 64,
   "id": "057181ac",
   "metadata": {},
   "outputs": [
    {
     "data": {
      "text/plain": [
       "4618956803.130585"
      ]
     },
     "execution_count": 64,
     "metadata": {},
     "output_type": "execute_result"
    }
   ],
   "source": [
    "x_1 = demography_df.loc[0:81, ['gdw','urbanization']].values\n",
    "y_1 = demography_df.loc[0:81, ['npg']].values\n",
    "ones = np.ones((x_1.shape[0], 1))\n",
    "x_1 = np.hstack((ones, x_1))\n",
    "XTX = x_1.T.dot(x_1)\n",
    "np.linalg.det(XTX)"
   ]
  },
  {
   "cell_type": "code",
   "execution_count": 65,
   "id": "a4c92a5c",
   "metadata": {},
   "outputs": [
    {
     "name": "stdout",
     "output_type": "stream",
     "text": [
      "b = [[52.40174935]\n",
      " [-0.39568532]\n",
      " [-0.26956661]]\n",
      "R2 = 0.400272862278369\n",
      "t = 3.112259573460637\n",
      "F = 26.363286010469476\n"
     ]
    }
   ],
   "source": [
    "XTX_inv = np.linalg.inv(XTX)\n",
    "b = XTX_inv.dot(x_1.T).dot(y_1)\n",
    "print(f'b = {b}')\n",
    "\n",
    "def sum_of_squares(samples):\n",
    "    return ((samples - samples.mean())**2).sum()\n",
    "\n",
    "z_1 = x_1.dot(b)\n",
    "R2 = 1 - ((y_1 - z_1)**2).sum() / sum_of_squares(y_1)\n",
    "print(f'R2 = {R2}')\n",
    "\n",
    "from scipy import stats\n",
    "\n",
    "n = x_1.shape[0]\n",
    "m = x_1.shape[1] - 1\n",
    "\n",
    "k1 = m\n",
    "k2 = n - m - 1\n",
    "\n",
    "alpha = 0.05\n",
    "\n",
    "t = stats.f.ppf(1 - alpha, k1, k2)\n",
    "\n",
    "print(f't = {t}')\n",
    "\n",
    "F = (R2 / k1) / ((1 - R2) / k2)\n",
    "print(f'F = {F}')"
   ]
  },
  {
   "cell_type": "markdown",
   "id": "8b0930fb",
   "metadata": {},
   "source": [
    "Уравнение линейной регрессии имеет вид: \n",
    "    \n",
    "    у = 52.4 - 0.39 * х1 - 0.26 * х2"
   ]
  },
  {
   "cell_type": "markdown",
   "id": "a0026561",
   "metadata": {},
   "source": [
    "F > t. Статистика попала в критическую область, следовательно уравнение регрессии признается значимым."
   ]
  },
  {
   "cell_type": "markdown",
   "id": "4aa7a816",
   "metadata": {},
   "source": [
    "Рассмотрим связь между приростом населения и демографическим показателем и урбанизацией в 2017 году"
   ]
  },
  {
   "cell_type": "code",
   "execution_count": 47,
   "id": "ea994bf3",
   "metadata": {},
   "outputs": [
    {
     "data": {
      "text/plain": [
       "3036375256.613951"
      ]
     },
     "execution_count": 47,
     "metadata": {},
     "output_type": "execute_result"
    }
   ],
   "source": [
    "x_2 = demography_df.loc[27*81:28*81-1, ['gdw', 'urbanization']].values\n",
    "y_2 = demography_df.loc[27*81:28*81-1, ['npg']].values\n",
    "ones = np.ones((x_2.shape[0], 1))\n",
    "x_2 = np.hstack((ones, x_2))\n",
    "XTX = x_2.T.dot(x_2)\n",
    "np.linalg.det(XTX)"
   ]
  },
  {
   "cell_type": "markdown",
   "id": "f30d9729",
   "metadata": {},
   "source": [
    "Определитель не близок к 0, поэтому продолжим работу по этому методу."
   ]
  },
  {
   "cell_type": "code",
   "execution_count": 50,
   "id": "164ec64d",
   "metadata": {},
   "outputs": [
    {
     "data": {
      "text/plain": [
       "array([[41.73379069],\n",
       "       [-0.44078092],\n",
       "       [-0.12713382]])"
      ]
     },
     "execution_count": 50,
     "metadata": {},
     "output_type": "execute_result"
    }
   ],
   "source": [
    "XTX_inv = np.linalg.inv(XTX)\n",
    "b = XTX_inv.dot(x_2.T).dot(y_2)\n",
    "b"
   ]
  },
  {
   "cell_type": "code",
   "execution_count": 51,
   "id": "4c2d8089",
   "metadata": {},
   "outputs": [
    {
     "data": {
      "text/plain": [
       "0.457927544960378"
      ]
     },
     "execution_count": 51,
     "metadata": {},
     "output_type": "execute_result"
    }
   ],
   "source": [
    "z_2 = x_2.dot(b)\n",
    "R2 = 1 - ((y_2 - z_2)**2).sum() / sum_of_squares(y_2)\n",
    "R2"
   ]
  },
  {
   "cell_type": "markdown",
   "id": "30022feb",
   "metadata": {},
   "source": [
    "Проверим значимость найденного уравнения регрессии."
   ]
  },
  {
   "cell_type": "code",
   "execution_count": 52,
   "id": "78254a16",
   "metadata": {},
   "outputs": [
    {
     "name": "stdout",
     "output_type": "stream",
     "text": [
      "t = 3.1137922602848125\n"
     ]
    }
   ],
   "source": [
    "from scipy import stats\n",
    "\n",
    "n = x_2.shape[0]\n",
    "m = x_2.shape[1] - 1\n",
    "\n",
    "k1 = m\n",
    "k2 = n - m - 1\n",
    "\n",
    "alpha = 0.05\n",
    "\n",
    "t = stats.f.ppf(1 - alpha, k1, k2)\n",
    "\n",
    "print(f't = {t}')"
   ]
  },
  {
   "cell_type": "code",
   "execution_count": 53,
   "id": "1cb3a5bc",
   "metadata": {},
   "outputs": [
    {
     "name": "stdout",
     "output_type": "stream",
     "text": [
      "F = 32.946101738649226\n"
     ]
    }
   ],
   "source": [
    "F = (R2 / k1) / ((1 - R2) / k2)\n",
    "print(f'F = {F}')"
   ]
  },
  {
   "cell_type": "markdown",
   "id": "2fef27cd",
   "metadata": {},
   "source": [
    "F > t. Статистика попала в критическую область, следовательно уравнение регрессии признается значимым."
   ]
  },
  {
   "cell_type": "code",
   "execution_count": 62,
   "id": "93231342",
   "metadata": {},
   "outputs": [
    {
     "name": "stdout",
     "output_type": "stream",
     "text": [
      "                            OLS Regression Results                            \n",
      "==============================================================================\n",
      "Dep. Variable:                      y   R-squared:                       0.393\n",
      "Model:                            OLS   Adj. R-squared:                  0.378\n",
      "Method:                 Least Squares   F-statistic:                     26.56\n",
      "Date:                Tue, 31 Aug 2021   Prob (F-statistic):           1.28e-09\n",
      "Time:                        16:31:20   Log-Likelihood:                -234.56\n",
      "No. Observations:                  85   AIC:                             475.1\n",
      "Df Residuals:                      82   BIC:                             482.4\n",
      "Df Model:                           2                                         \n",
      "Covariance Type:            nonrobust                                         \n",
      "==============================================================================\n",
      "                 coef    std err          t      P>|t|      [0.025      0.975]\n",
      "------------------------------------------------------------------------------\n",
      "const         51.8294      6.633      7.814      0.000      38.634      65.024\n",
      "x1            -0.3936      0.058     -6.783      0.000      -0.509      -0.278\n",
      "x2            -0.2648      0.043     -6.183      0.000      -0.350      -0.180\n",
      "==============================================================================\n",
      "Omnibus:                       30.489   Durbin-Watson:                   1.807\n",
      "Prob(Omnibus):                  0.000   Jarque-Bera (JB):               63.147\n",
      "Skew:                           1.311   Prob(JB):                     1.94e-14\n",
      "Kurtosis:                       6.310   Cond. No.                     1.62e+03\n",
      "==============================================================================\n",
      "\n",
      "Notes:\n",
      "[1] Standard Errors assume that the covariance matrix of the errors is correctly specified.\n",
      "[2] The condition number is large, 1.62e+03. This might indicate that there are\n",
      "strong multicollinearity or other numerical problems.\n"
     ]
    }
   ],
   "source": [
    "import statsmodels.api as sm\n",
    "    \n",
    "model1 = sm.OLS(y_1, x_1)\n",
    "results1 = model1.fit()\n",
    "print(results1.summary())    "
   ]
  },
  {
   "cell_type": "code",
   "execution_count": 63,
   "id": "dffe0853",
   "metadata": {},
   "outputs": [
    {
     "name": "stdout",
     "output_type": "stream",
     "text": [
      "                            OLS Regression Results                            \n",
      "==============================================================================\n",
      "Dep. Variable:                      y   R-squared:                       0.458\n",
      "Model:                            OLS   Adj. R-squared:                  0.444\n",
      "Method:                 Least Squares   F-statistic:                     32.95\n",
      "Date:                Tue, 31 Aug 2021   Prob (F-statistic):           4.25e-11\n",
      "Time:                        16:31:39   Log-Likelihood:                -206.52\n",
      "No. Observations:                  81   AIC:                             419.0\n",
      "Df Residuals:                      78   BIC:                             426.2\n",
      "Df Model:                           2                                         \n",
      "Covariance Type:            nonrobust                                         \n",
      "==============================================================================\n",
      "                 coef    std err          t      P>|t|      [0.025      0.975]\n",
      "------------------------------------------------------------------------------\n",
      "const         41.7338      5.326      7.836      0.000      31.130      52.337\n",
      "x1            -0.4408      0.057     -7.764      0.000      -0.554      -0.328\n",
      "x2            -0.1271      0.030     -4.286      0.000      -0.186      -0.068\n",
      "==============================================================================\n",
      "Omnibus:                       37.312   Durbin-Watson:                   2.214\n",
      "Prob(Omnibus):                  0.000   Jarque-Bera (JB):              121.554\n",
      "Skew:                           1.426   Prob(JB):                     4.03e-27\n",
      "Kurtosis:                       8.280   Cond. No.                     1.59e+03\n",
      "==============================================================================\n",
      "\n",
      "Notes:\n",
      "[1] Standard Errors assume that the covariance matrix of the errors is correctly specified.\n",
      "[2] The condition number is large, 1.59e+03. This might indicate that there are\n",
      "strong multicollinearity or other numerical problems.\n"
     ]
    }
   ],
   "source": [
    "model2 = sm.OLS(y_2, x_2)\n",
    "results2 = model2.fit()\n",
    "    \n",
    "print(results2.summary())"
   ]
  },
  {
   "cell_type": "markdown",
   "id": "3c67c997",
   "metadata": {},
   "source": [
    "Итак, уравнение линейной регрессии имеет вид:\n",
    "\n",
    "    у = 41.73 - 0.44 * х1 - 0.12 * х2 (2017 г.)\n",
    "\n",
    "где у - естественный прирост населения,\n",
    "х1 - общий демографический показатель,\n",
    "х2 - уровень урбанизации.\n",
    "\n",
    "Сравним с другим уравнением регрессии:\n",
    "\n",
    "     у = 51.83 - 0.39 * х1 - 0.26 * х2 (1990 г.)\n",
    "\n",
    "Оба уравнения значимы для построения линейной зависимости.\n",
    "По сравнению с уравнением 1990 года коэффициент b0 уменьшился, b1 по модулю увеличился, b2 по модулю уменьшился"
   ]
  },
  {
   "cell_type": "markdown",
   "id": "3bbfea63",
   "metadata": {},
   "source": [
    " В выборке из данных по 4 годам в 1990 году наблюдается корреляция между общим демографическим показателем и уровнем урбанизации.\n",
    "    Проанализируем, есть ли между ними взаимосвязь."
   ]
  },
  {
   "cell_type": "code",
   "execution_count": 69,
   "id": "eb2d4e6c",
   "metadata": {},
   "outputs": [
    {
     "name": "stdout",
     "output_type": "stream",
     "text": [
      "                            OLS Regression Results                            \n",
      "==============================================================================\n",
      "Dep. Variable:                      y   R-squared:                       0.355\n",
      "Model:                            OLS   Adj. R-squared:                  0.347\n",
      "Method:                 Least Squares   F-statistic:                     44.07\n",
      "Date:                Tue, 31 Aug 2021   Prob (F-statistic):           3.49e-09\n",
      "Time:                        17:05:52   Log-Likelihood:                -280.18\n",
      "No. Observations:                  82   AIC:                             564.4\n",
      "Df Residuals:                      80   BIC:                             569.2\n",
      "Df Model:                           1                                         \n",
      "Covariance Type:            nonrobust                                         \n",
      "==============================================================================\n",
      "                 coef    std err          t      P>|t|      [0.025      0.975]\n",
      "------------------------------------------------------------------------------\n",
      "const        106.5581      4.694     22.701      0.000      97.217     115.899\n",
      "x1            -0.4409      0.066     -6.638      0.000      -0.573      -0.309\n",
      "==============================================================================\n",
      "Omnibus:                       24.506   Durbin-Watson:                   1.705\n",
      "Prob(Omnibus):                  0.000   Jarque-Bera (JB):               35.355\n",
      "Skew:                          -1.303   Prob(JB):                     2.10e-08\n",
      "Kurtosis:                       4.887   Cond. No.                         403.\n",
      "==============================================================================\n",
      "\n",
      "Notes:\n",
      "[1] Standard Errors assume that the covariance matrix of the errors is correctly specified.\n"
     ]
    }
   ],
   "source": [
    "x_3 = demography_df.loc[0:81, ['urbanization']].values\n",
    "y_3 = demography_df.loc[0:81, ['gdw']].values\n",
    "ones = np.ones((x_3.shape[0], 1))\n",
    "x_3 = np.hstack((ones, x_3))\n",
    "\n",
    "\n",
    "model3 = sm.OLS(y_3, x_3)\n",
    "results3 = model3.fit()\n",
    "    \n",
    "print(results3.summary())"
   ]
  },
  {
   "cell_type": "markdown",
   "id": "a9ce141a",
   "metadata": {},
   "source": [
    " В выборке из данных по 4 годам наблюдается возрастающая корреляция между общим демографическим показателем и приростом населения.\n",
    "    Проанализируем, есть ли между ними взаимосвязь."
   ]
  },
  {
   "cell_type": "code",
   "execution_count": 70,
   "id": "7f4aca41",
   "metadata": {},
   "outputs": [
    {
     "name": "stdout",
     "output_type": "stream",
     "text": [
      "                            OLS Regression Results                            \n",
      "==============================================================================\n",
      "Dep. Variable:                      y   R-squared:                       0.330\n",
      "Model:                            OLS   Adj. R-squared:                  0.322\n",
      "Method:                 Least Squares   F-statistic:                     38.96\n",
      "Date:                Tue, 31 Aug 2021   Prob (F-statistic):           2.02e-08\n",
      "Time:                        17:09:41   Log-Likelihood:                -215.08\n",
      "No. Observations:                  81   AIC:                             434.2\n",
      "Df Residuals:                      79   BIC:                             439.0\n",
      "Df Model:                           1                                         \n",
      "Covariance Type:            nonrobust                                         \n",
      "==============================================================================\n",
      "                 coef    std err          t      P>|t|      [0.025      0.975]\n",
      "------------------------------------------------------------------------------\n",
      "const         27.9002      4.679      5.963      0.000      18.587      37.213\n",
      "x1            -0.3783      0.061     -6.242      0.000      -0.499      -0.258\n",
      "==============================================================================\n",
      "Omnibus:                       48.568   Durbin-Watson:                   2.448\n",
      "Prob(Omnibus):                  0.000   Jarque-Bera (JB):              179.693\n",
      "Skew:                           1.899   Prob(JB):                     9.56e-40\n",
      "Kurtosis:                       9.230   Cond. No.                         933.\n",
      "==============================================================================\n",
      "\n",
      "Notes:\n",
      "[1] Standard Errors assume that the covariance matrix of the errors is correctly specified.\n"
     ]
    }
   ],
   "source": [
    "x_4 = demography_df.loc[27*81:28*81-1, ['gdw']].values\n",
    "y_4 = demography_df.loc[27*81:28*81-1, ['npg']].values\n",
    "ones = np.ones((x_4.shape[0], 1))\n",
    "x_4 = np.hstack((ones, x_4))\n",
    "\n",
    "\n",
    "model4 = sm.OLS(y_4, x_4)\n",
    "results4 = model4.fit()\n",
    "    \n",
    "print(results4.summary())"
   ]
  },
  {
   "cell_type": "markdown",
   "id": "28cad0ae",
   "metadata": {},
   "source": [
    "Выводы:\n",
    "\n",
    "1. В 2017 году прирост населения по сравнению с 1990 годом снизился и стал отрицательным. В 2001 году наблюдался локальный минимум данной величины: спад до -5.9882 на 1000 человек населения (средняя величина по всем регионам). В 2013 году - локальный максимум: +0.1917 человека на 1000 населения.\n",
    "\n",
    "2. Коэффициенты детерминации R2, равные 0.3931 и 0.4579 означают, что 39% и 45% дисперсии переменной y соответственно - учитывается или объясняется моделью. Оставшиеся 61% и 55% соответственно - обусловлены какими-то ещё факторами, которые при построении модели не учитывались. \n",
    "\n",
    "3. Доверительные интервалы коэффициента b0 заметно больше, чем коэффициенты  b1, b2 при переменных, это свидетельствует о том, что всё-таки общий демографический показатель и уровень урбанизации не вносят большого отрицательного вклада (отрицательного) в уровень естественного прироста населения.\n",
    "\n",
    "4. Однако, если сравнить оба уравнения регрессии между собой, то увидим, что в 2017 году по сравнению с 1990 годом для естественного прироста населения - уровень урбанизации стал менее значим, а общий демографический показатель - стал немного более значим.\n",
    "\n",
    "5. В 1990 году была корреляция между общим демографическим показателем и уровнем урбанизации (-0.485). Построенная модель линейной регрессии говорит в частности о том, что понижение урбанизации на 1 вело к снижению демографического показателя на 0.44. Небольшой доверительный интервал при переменной говорит о небольшом вкладе урбанизации и демогр. показатель.\n",
    "\n",
    "6. В выборке из данных по 4 годам наблюдается возрастающая корреляция между общим демографическим показателем и приростом населения. В 2017 этот уровень наиболее высок (- 0.469) и прослежена небольшая линейная зависимость между этими величинами. Что интерпретируется следующим образом: повышение количества неработающих жителей по отношению к работающим на 1 человека ведет к уменьшению населения на 0.3783 (около 4 на каждые 10 человек). Малый доверительный интервал при переменной говорит о малом вкладе демогр.показателя в величину естественного прироста населения."
   ]
  }
 ],
 "metadata": {
  "kernelspec": {
   "display_name": "Python 3",
   "language": "python",
   "name": "python3"
  },
  "language_info": {
   "codemirror_mode": {
    "name": "ipython",
    "version": 3
   },
   "file_extension": ".py",
   "mimetype": "text/x-python",
   "name": "python",
   "nbconvert_exporter": "python",
   "pygments_lexer": "ipython3",
   "version": "3.8.8"
  }
 },
 "nbformat": 4,
 "nbformat_minor": 5
}
