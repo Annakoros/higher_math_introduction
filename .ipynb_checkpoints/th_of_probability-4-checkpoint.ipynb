{
 "cells": [
  {
   "cell_type": "code",
   "execution_count": 1,
   "id": "78b7232b",
   "metadata": {},
   "outputs": [
    {
     "ename": "SyntaxError",
     "evalue": "EOL while scanning string literal (<ipython-input-1-fcc9783b3b6c>, line 31)",
     "output_type": "error",
     "traceback": [
      "\u001b[1;36m  File \u001b[1;32m\"<ipython-input-1-fcc9783b3b6c>\"\u001b[1;36m, line \u001b[1;32m31\u001b[0m\n\u001b[1;33m    print(f'p-value = {pvalue})\u001b[0m\n\u001b[1;37m                               ^\u001b[0m\n\u001b[1;31mSyntaxError\u001b[0m\u001b[1;31m:\u001b[0m EOL while scanning string literal\n"
     ]
    }
   ],
   "source": [
    "#Задача 1\n",
    "#О непрерывной равномерно распределенной случайной величине B известно, что ее дисперсия равна 0.2. \n",
    "#Можно ли найти правую границу величины B и ее среднее значение зная, что левая граница равна 0.5? \n",
    "#Если да, найдите ее.\n",
    "\n",
    "import numpy as np\n",
    "D_ = 0.2\n",
    "a = 0.5\n",
    "#Имея дело с равномерным распределением, можем найти искомую границу b по формуле: D = (b-a)**2/12\n",
    "#Преобразуя ... b**2 - b - 2.15 = 0\n",
    "d = 1 + (4 * 2.15)\n",
    "b = []\n",
    "b1 = (1 + np.sqrt(d))/2\n",
    "b2 = (1 - np.sqrt(d))/2\n",
    "b.extend([b1, b2])\n",
    "print(b)\n",
    "for b_ in b:\n",
    "    if b_ > a:\n",
    "        true_root = b_\n",
    "print(true_root)\n",
    "try:\n",
    "    M_ = (a + true_root)/2\n",
    "except true_root == None:\n",
    "    M_ = None\n",
    "print(f'Правая граница величины равна {true_root}, среднее значение величины равно {M_}')\n",
    "\n",
    "#p-value\n",
    "p_left = sps.t.cdf(S, df=n - 1)\n",
    "p_right = 1 - stats.t.cdf(S, df=n - 1)\n",
    "pvalue = 2 * min(p_left, p_right)\n",
    "print(f'p-value = {pvalue})"
   ]
  },
  {
   "cell_type": "code",
   "execution_count": 33,
   "id": "798fcc44",
   "metadata": {},
   "outputs": [
    {
     "data": {
      "image/png": "[encoded data removed]",
      "text/plain": [
       "<Figure size 864x432 with 1 Axes>"
      ]
     },
     "metadata": {
      "needs_background": "light"
     },
     "output_type": "display_data"
    },
    {
     "name": "stdout",
     "output_type": "stream",
     "text": [
      "0 -21.75 150 -3.0\n",
      "21.75 True\n",
      "Найти вероятность того, что взрослый человек имеет рост не выше 150 см\n",
      "Найдите табличное значение функции Лапласа для х = 3.0 :)0.49865\n",
      "-0.5 -0.49865\n",
      "0 -21.75 190 2.0\n",
      "21.75 True\n",
      "Найти вероятность того, что взрослый человек имеет рост не ниже 190 см\n",
      "Найдите табличное значение функции Лапласа для х = 2.0 :)0.4772\n",
      "-0.5 0.4772\n",
      "не выше 150 см или не ниже 190 см 0.024150000000000005\n",
      "0 -21.75 150 -3.0\n",
      "21.75 True\n",
      "Найти вероятность того, что взрослый человек имеет рост не выше 150 см\n",
      "Найдите табличное значение функции Лапласа для х = 3.0 :)0.49865\n",
      "-0.5 -0.49865\n",
      "0 -21.75 198 3.0\n",
      "21.75 True\n",
      "Найти вероятность того, что взрослый человек имеет рост не ниже 198 см\n",
      "Найдите табличное значение функции Лапласа для х = 3.0 :)0.49865\n",
      "-0.5 0.49865\n",
      "не выше 150 см или не ниже 198 см 0.0027000000000000357\n",
      "0 -21.75 166 -1.0\n",
      "21.75 True\n",
      "Найти вероятность того, что взрослый человек имеет рост ниже 166 см\n",
      "Найдите табличное значение функции Лапласа для х = 1.0 :)0.3413\n",
      "-0.5 -0.3413\n",
      "0.1587\n"
     ]
    }
   ],
   "source": [
    "#Задача 2\n",
    "#Рост взрослого населения города X имеет нормальное распределение, причем, средний рост равен 174 см, \n",
    "#а среднее квадратическое отклонение равно 8 см. посчитайте, какова вероятность того, что случайным образом выбранный \n",
    "#взрослый человек имеет рост:\n",
    "#1. больше 182 см?\n",
    "#2. больше 190 см?\n",
    "#3. от 166 см до 190 см?\n",
    "#4. от 166 см до 182 см?\n",
    "#5. от 158 см до 190 см?\n",
    "#6. не выше 150 см или не ниже 190 см?\n",
    "#7. не выше 150 см или не ниже 198 см?\n",
    "#8. ниже 166 см?\n",
    "#Задачу можно решить двумя способами: без использования сторонних библиотек (numpy, scipy, pandas и пр.), \n",
    "#а затем проверить себя с помощью встроенных функций\n",
    "\n",
    "import scipy.stats as sps\n",
    "import numpy as np\n",
    "import ipywidgets as widgets\n",
    "import matplotlib.pyplot as plt\n",
    "\n",
    "#Построение графика для некой наглядности + тренировка\n",
    "grid = np.linspace(100, 250, 1000)\n",
    "a = 174\n",
    "sigma = 8\n",
    "plt.figure(figsize=(12, 6))\n",
    "plt.plot(grid, sps.norm(a, sigma).pdf(grid), lw=5, \n",
    "             label='$\\mathcal{N}' + '({}, {})$'.format(a, sigma))\n",
    "plt.show()\n",
    "\n",
    "#Напишем функцию для вычисления нужных значений функции Лапласа с данными этой задачи:\n",
    "def laplas_(alfa, beta, order, message_):\n",
    "    #order - переменная показывает, прямую нужно вычислить вероятность (р) - straight или обратную (1-р) - reverse\n",
    "    minus_alfa = False\n",
    "    minus_beta = False\n",
    "    arg_beta = (beta - 174) / 8\n",
    "    arg_alfa = (alfa - 174) / 8\n",
    "    if arg_alfa < 0:\n",
    "        arg_alfa = arg_alfa * (-1)\n",
    "        minus_alfa = True\n",
    "    if arg_beta < 0:\n",
    "        arg_beta = arg_beta * (-1)\n",
    "        minus_beta = True\n",
    "    print('Найти вероятность того, что взрослый человек имеет рост ' + message_)\n",
    "    if arg_alfa > 5:\n",
    "        ef_alfa = 0.5\n",
    "    else:      \n",
    "        ef_alfa = input(f'Найдите табличное значение функции Лапласа для х = {arg_alfa} :)')\n",
    "    if minus_alfa == True:\n",
    "        ef_alfa = float(ef_alfa) * (-1)\n",
    "    if arg_beta > 5:\n",
    "        ef_beta = 0.5\n",
    "    else:      \n",
    "        ef_beta = input(f'Найдите табличное значение функции Лапласа для х = {arg_beta} :)')\n",
    "    if minus_beta == True:\n",
    "        ef_beta = float(ef_beta) * (-1)\n",
    "    if alfa == 0:\n",
    "        if order == 'straight':\n",
    "            probability = (float(ef_beta)+0.5)\n",
    "        if order == 'reverse':\n",
    "            probability = (0.5 - float(ef_beta))\n",
    "    else:\n",
    "        if order == 'straight':\n",
    "            probability = (float(ef_beta) - float(ef_alfa))\n",
    "        if order == 'reverse':\n",
    "            probability = (1 - (float(ef_beta) - float(ef_alfa)))\n",
    "    return probability\n",
    "\n",
    "#взрослый человек имеет рост:\n",
    "#1. больше 182 см?\n",
    "#print(laplas_(0, 182, 'reverse', 'больше 182 см'))\n",
    "#print(laplas_(0, 190, 'reverse', 'больше 190 см'))\n",
    "#print(laplas_(166, 190, 'straight', 'от 166 см до 190 см'))\n",
    "#print(laplas_(166, 182, 'straight', 'от 166 см до 182 см'))\n",
    "#print(laplas_(158, 190, 'straight', 'от 158 см до 190 см'))\n",
    "print(f'не выше 150 см или не ниже 190 см', laplas_(0, 150, 'straight', 'не выше 150 см') + laplas_(0, 190, 'reverse', 'не ниже 190 см'))\n",
    "print(f'не выше 150 см или не ниже 198 см', laplas_(0, 150, 'straight', 'не выше 150 см') + laplas_(0, 198, 'reverse', 'не ниже 198 см'))\n",
    "print(laplas_(0, 166, 'straight', 'ниже 166 см'))"
   ]
  },
  {
   "cell_type": "code",
   "execution_count": 18,
   "id": "cd541ed1",
   "metadata": {},
   "outputs": [
    {
     "name": "stdout",
     "output_type": "stream",
     "text": [
      "среднеквадратичное отклонение  0.03640000000009383\n",
      "Процент коробок, имеющих массу больше 1.1 кг:  13.590560364492843 %\n"
     ]
    }
   ],
   "source": [
    "#Задача 3 (Дополнительно)\n",
    "#Коробки с шоколадом упаковываются автоматически. Их средняя масса равна 1.06 кг. \n",
    "#Известно, что 5% коробок имеют массу, меньшую 1 кг. \n",
    "#Найдите: а) среднее квадратическое отклонение массы коробки, б) процент коробок, имеющих массу больше 1.1 кг.\n",
    "#Подсказка. 1. Можно считать, что распределение массы коробки нормальное. \n",
    "#2. Найдите такое значение scale, для которого значение cdf(x=1, loc=1.06, scale=scale) близко к 0.05. \n",
    "#Точности 0.0001 будет достаточно.\n",
    "import scipy.stats as sps\n",
    "import numpy as np\n",
    "scale = 0.9999\n",
    "while sps.norm.cdf(1, loc=1.06, scale=scale) > 0.05 :\n",
    "    scale = scale - 0.0001\n",
    "print('среднеквадратичное отклонение ', scale)\n",
    "probability = (1 - sps.norm.cdf(x=1.1, loc = 1.06, scale = scale))*100\n",
    "print('Процент коробок, имеющих массу больше 1.1 кг: ', probability, '%')"
   ]
  }
 ],
 "metadata": {
  "kernelspec": {
   "display_name": "Python 3",
   "language": "python",
   "name": "python3"
  },
  "language_info": {
   "codemirror_mode": {
    "name": "ipython",
    "version": 3
   },
   "file_extension": ".py",
   "mimetype": "text/x-python",
   "name": "python",
   "nbconvert_exporter": "python",
   "pygments_lexer": "ipython3",
   "version": "3.8.8"
  }
 },
 "nbformat": 4,
 "nbformat_minor": 5
}
