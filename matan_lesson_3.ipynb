{
 "cells": [
  {
   "cell_type": "code",
   "execution_count": 28,
   "id": "2d1a3a3e",
   "metadata": {},
   "outputs": [
    {
     "name": "stdout",
     "output_type": "stream",
     "text": [
      "Невозможно вычислить. Последние значения: a = 0.00584795, слишком большое для вычисления - b содержит 310 знаков, c = 63.83553771186721\n",
      "171\n",
      "n_new = 2.663093413066003, n_old = 2.663093413066003\n"
     ]
    }
   ],
   "source": [
    "#Предложить алгоритм для вычисления предела последовательности с точностью до е=10^7\n",
    "import scipy\n",
    "import numpy as np\n",
    "n = 1\n",
    "n_new = 0.00001\n",
    "n_old = 0\n",
    "while (n_new - n_old) >= 0.0000001:\n",
    "    n_old = n_new\n",
    "    a = np.round_(np.divide(1,n), decimals=8)\n",
    "    b = scipy.math.factorial(n)\n",
    "    try: \n",
    "        c = b**a\n",
    "        n_new = np.divide(n, c)\n",
    "        n += 1\n",
    "        #print(n)\n",
    "        #print(f'n_new = {n_new}, n_old = {n_old}')\n",
    "    except OverflowError:\n",
    "        print(f'Невозможно вычислить. Последние значения: a = {a}, слишком большое для вычисления - b содержит {len(str(b))} знаков, c = {c}')\n",
    "print(n)\n",
    "print(f'n_new = {n_new}, n_old = {n_old}')"
   ]
  },
  {
   "cell_type": "code",
   "execution_count": null,
   "id": "8617b7af",
   "metadata": {},
   "outputs": [],
   "source": []
  },
  {
   "cell_type": "code",
   "execution_count": null,
   "id": "99caf1d4",
   "metadata": {},
   "outputs": [],
   "source": []
  }
 ],
 "metadata": {
  "kernelspec": {
   "display_name": "Python 3",
   "language": "python",
   "name": "python3"
  },
  "language_info": {
   "codemirror_mode": {
    "name": "ipython",
    "version": 3
   },
   "file_extension": ".py",
   "mimetype": "text/x-python",
   "name": "python",
   "nbconvert_exporter": "python",
   "pygments_lexer": "ipython3",
   "version": "3.8.8"
  }
 },
 "nbformat": 4,
 "nbformat_minor": 5
}
