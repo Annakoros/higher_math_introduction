{
 "cells": [
  {
   "cell_type": "code",
   "execution_count": 28,
   "id": "2d1a3a3e",
   "metadata": {},
   "outputs": [
    {
     "name": "stdout",
     "output_type": "stream",
     "text": [
      "Невозможно вычислить. Последние значения: a = 0.00584795, слишком большое для вычисления - b содержит 310 знаков, c = 63.83553771186721\n",
      "171\n",
      "n_new = 2.663093413066003, n_old = 2.663093413066003\n"
     ]
    }
   ],
   "source": [
    "#3*. Предложить алгоритм для вычисления предела последовательности с точностью до е=10^7\n",
    "import scipy\n",
    "import numpy as np\n",
    "n = 1\n",
    "n_new = 0.00001\n",
    "n_old = 0\n",
    "while (n_new - n_old) >= 0.0000001:\n",
    "    n_old = n_new\n",
    "    a = np.round_(np.divide(1,n), decimals=8)\n",
    "    b = scipy.math.factorial(n)\n",
    "    try: \n",
    "        c = b**a\n",
    "        n_new = np.divide(n, c)\n",
    "        n += 1\n",
    "        #print(n)\n",
    "        #print(f'n_new = {n_new}, n_old = {n_old}')\n",
    "    except OverflowError:\n",
    "        print(f'Невозможно вычислить. Последние значения: a = {a}, слишком большое для вычисления - b содержит {len(str(b))} знаков, c = {c}')\n",
    "print(n)\n",
    "print(f'n_new = {n_new}, n_old = {n_old}')"
   ]
  },
  {
   "cell_type": "code",
   "execution_count": 5,
   "id": "8617b7af",
   "metadata": {},
   "outputs": [
    {
     "name": "stdout",
     "output_type": "stream",
     "text": [
      "Значение аргумента n = 10072\n",
      "Значение предела функции n_new = 2.715299361769741, n_old = 2.715299388543906\n",
      "(Число е = 2.718281828459045)\n"
     ]
    }
   ],
   "source": [
    "#4*. Предложить оптимизацию алгоритма, полученного в задании 3, ускоряющую его сходимость.\n",
    "# Если преобразовать выражение по формуле Стирлинга, то функция примет вид: е/(2Пп)**(1/п)\n",
    "import scipy\n",
    "import numpy as np\n",
    "n = 1\n",
    "n_new = 0.00001\n",
    "n_old = 0\n",
    "while (n_new - n_old) >= 0.0000001:\n",
    "    n_old = n_new\n",
    "    a = np.round_(np.divide(1,n), decimals=8)\n",
    "    b = (2*np.pi*n)**a\n",
    "    n_new = np.e/b\n",
    "    n += 1\n",
    "print(f'Значение аргумента n = {n}')\n",
    "print(f'Значение предела функции n_new = {n_new}, n_old = {n_old}')\n",
    "print(f'(Число е = {np.e})')"
   ]
  },
  {
   "cell_type": "code",
   "execution_count": null,
   "id": "99caf1d4",
   "metadata": {},
   "outputs": [],
   "source": []
  }
 ],
 "metadata": {
  "kernelspec": {
   "display_name": "Python 3",
   "language": "python",
   "name": "python3"
  },
  "language_info": {
   "codemirror_mode": {
    "name": "ipython",
    "version": 3
   },
   "file_extension": ".py",
   "mimetype": "text/x-python",
   "name": "python",
   "nbconvert_exporter": "python",
   "pygments_lexer": "ipython3",
   "version": "3.8.8"
  }
 },
 "nbformat": 4,
 "nbformat_minor": 5
}
