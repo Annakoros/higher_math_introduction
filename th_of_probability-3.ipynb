{
 "cells": [
  {
   "cell_type": "code",
   "execution_count": 15,
   "id": "ec9432de",
   "metadata": {
    "scrolled": true
   },
   "outputs": [],
   "source": [
    "#Задача 1\n",
    "#Даны значения зарплат из выборки выпускников:\n",
    "#100, 80, 75, 77, 89, 33, 45, 25, 65, 17, 30, 24, 57, 55, 70, 75, 65, 84, 90, 150.\n",
    "#Без использования статистических функций вроде mean, std, var, посчитать среднее арифметическое, \n",
    "#среднее квадратичное отклонение, смещенную и несмещенную оценки дисперсий для данной выборки.\n",
    "#Можно затем посчитать те же значения с использованием статистических функций, чтобы проверить себя.\n",
    "salary = (100, 80, 75, 77, 89, 33, 45, 25, 65, 17, 30, 24, 57, 55, 70, 75, 65, 84, 90, 150)\n",
    "new_f = open(\"salary_data.txt\", \"w\", encoding='utf-8')\n",
    "input_text = ['money', '\\n']\n",
    "for i in range(len(salary)):\n",
    "    input_text.extend([str(salary[i]), '\\n'])\n",
    "new_f.writelines(input_text)\n",
    "new_f.close()"
   ]
  },
  {
   "cell_type": "code",
   "execution_count": 22,
   "id": "6d44230a",
   "metadata": {},
   "outputs": [
    {
     "name": "stdout",
     "output_type": "stream",
     "text": [
      "   money\n",
      "0    100\n",
      "1     80\n",
      "2     75\n",
      "3     77\n",
      "4     89\n",
      "5     33\n",
      "6     45\n",
      "7     25\n",
      "8     65\n",
      "9     17\n",
      "Мат.ожидание = 65.3\n",
      "65.3\n",
      "Среднеквадратичное отклонение = 30.823854398825596\n",
      "30.823854398825596\n",
      "Смещенная дисперсия = 950.11\n",
      "950.11\n",
      "Немещенная дисперсия = 1000.1157894736842\n",
      "1000.1157894736842\n"
     ]
    }
   ],
   "source": [
    "import pandas as pd\n",
    "import csv\n",
    "import numpy as np\n",
    "df = pd.read_csv('salary_data.txt', encoding = 'utf-8')\n",
    "print(df.head(10))\n",
    "m_x = df['money'].sum() / df['money'].count()\n",
    "print(f'Мат.ожидание = {m_x}')\n",
    "print(df['money'].mean())\n",
    "sigma_x = np.sqrt(((df['money'] - m_x)**2).sum() / df['money'].count())\n",
    "print(f'Среднеквадратичное отклонение = {sigma_x}')\n",
    "print(df['money'].std(ddof=0))\n",
    "var_x = ((df['money'] - m_x)**2).sum() / df['money'].count()\n",
    "print(f'Смещенная дисперсия = {var_x}')\n",
    "print(df['money'].var(ddof=0))\n",
    "var_x_nmoved = ((df['money'] - m_x)**2).sum() / (df['money'].count() - 1)\n",
    "print(f'Немещенная дисперсия = {var_x_nmoved}')\n",
    "print(df['money'].var(ddof=1))"
   ]
  },
  {
   "cell_type": "code",
   "execution_count": 30,
   "id": "9c5a800a",
   "metadata": {},
   "outputs": [
    {
     "name": "stderr",
     "output_type": "stream",
     "text": [
      "C:\\anaconda3\\lib\\site-packages\\seaborn\\_decorators.py:36: FutureWarning: Pass the following variable as a keyword arg: x. From version 0.12, the only valid positional argument will be `data`, and passing other arguments without an explicit keyword will result in an error or misinterpretation.\n",
      "  warnings.warn(\n"
     ]
    },
    {
     "data": {
      "image/png": "[encoded data removed]",
      "text/plain": [
       "<Figure size 432x288 with 1 Axes>"
      ]
     },
     "metadata": {
      "needs_background": "light"
     },
     "output_type": "display_data"
    },
    {
     "name": "stdout",
     "output_type": "stream",
     "text": [
      "Первый квартиль 42.0\n",
      "Третий квартиль 81.0\n",
      "Интерквартильное расстояние 39.0\n",
      "Значение 150 - выброс\n"
     ]
    }
   ],
   "source": [
    "#Задача 2\n",
    "#Для выборки из задачи 1 найти первый и третий квартили, интерквартильное расстояние. \n",
    "#Найти выборсы в выборке, используя для этого \"усы\" из boxplot. \n",
    "#В этой задаче можно использовать статистические функции.\n",
    "import matplotlib.pyplot as plt\n",
    "import seaborn as sns\n",
    "sns.boxplot(df['money'], orient='x')\n",
    "plt.show()\n",
    "qv_1 = df['money'].quantile(0.25)\n",
    "qv_3 = df['money'].quantile(0.75)\n",
    "inter_qv = df['money'].quantile(0.75) - df['money'].quantile(0.25)\n",
    "print(f'Первый квартиль {qv_1}')\n",
    "print(f'Третий квартиль {qv_3}')\n",
    "print(f'Интерквартильное расстояние {inter_qv}')\n",
    "for money_ in df['money']:\n",
    "    if (money_ < qv_1 - (1.5*inter_qv)) or (money_ > qv_3 + (1.5*inter_qv)):\n",
    "        print(f'Значение {money_} - выброс')"
   ]
  },
  {
   "cell_type": "code",
   "execution_count": 31,
   "id": "764862b8",
   "metadata": {},
   "outputs": [
    {
     "name": "stdout",
     "output_type": "stream",
     "text": [
      "а) Вероятность того, что сдавший студент учится на факультете А: 0.060606060606060615\n",
      "б) Вероятность того, что сдавший студент учится на факультете B: 0.05303030303030303\n",
      "в) Вероятность того, что сдавший студент учится на факультете C: 0.27272727272727276\n"
     ]
    }
   ],
   "source": [
    "#Задача 3\n",
    "#В университет на факультеты A и B поступило равное количество студентов, \n",
    "#а на факультет C студентов поступило столько же, сколько на A и B вместе. \n",
    "#Вероятность того, что студент факультета A сдаст первую сессию, равна 0.8. \n",
    "#Для студента факультета B эта вероятность равна 0.7, а для студента факультета C - 0.9. \n",
    "#Студент сдал первую сессию. Какова вероятность, что он учится: a) на факультете A? б) на факультете B? в) на факультете C?\n",
    "#Замечание: да, эта задача не на тему описательных статистик, но тема важная, и её стоит иногда освежать в памяти.\n",
    "\n",
    "#Считая, что событие А - студент сдал сессию, В - студент учится на определенном факультете.\n",
    "#Применим формулу полной вероятности:\n",
    "\n",
    "p_general = 0.8 * 0.25 + 0.7 * 0.25 + 0.9 * 0.5\n",
    "\n",
    "#Апостериорные вероятности сдачи экзамена студентом факультета:\n",
    "\n",
    "p_A_after = 0.8 * 0.25\n",
    "p_B_after = 0.7 * 0.25\n",
    "p_C_after = 0.9 * 0.5\n",
    "\n",
    "#Вероятность того, что сдавший студент учится на определенном факультете:\n",
    "\n",
    "p_success_A = 0.25 * p_A_after / p_general\n",
    "p_success_B = 0.25 * p_B_after / p_general\n",
    "p_success_C = 0.5 * p_C_after / p_general\n",
    "\n",
    "print(f'а) Вероятность того, что сдавший студент учится на факультете А: {p_success_A}')\n",
    "print(f'б) Вероятность того, что сдавший студент учится на факультете B: {p_success_B}')\n",
    "print(f'в) Вероятность того, что сдавший студент учится на факультете C: {p_success_C}')"
   ]
  },
  {
   "cell_type": "code",
   "execution_count": null,
   "id": "41df94e3",
   "metadata": {},
   "outputs": [],
   "source": []
  }
 ],
 "metadata": {
  "kernelspec": {
   "display_name": "Python 3",
   "language": "python",
   "name": "python3"
  },
  "language_info": {
   "codemirror_mode": {
    "name": "ipython",
    "version": 3
   },
   "file_extension": ".py",
   "mimetype": "text/x-python",
   "name": "python",
   "nbconvert_exporter": "python",
   "pygments_lexer": "ipython3",
   "version": "3.8.8"
  }
 },
 "nbformat": 4,
 "nbformat_minor": 5
}
