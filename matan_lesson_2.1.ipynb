{
 "cells": [
  {
   "cell_type": "code",
   "execution_count": 4,
   "id": "a6e8963a",
   "metadata": {},
   "outputs": [
    {
     "name": "stdout",
     "output_type": "stream",
     "text": [
      "a= ['0' '1' '2' '4' '6' 'капуста']\n",
      "b= ['0' '1' '3' '5' '6' 'огурец']\n",
      "c= ['0' '1' '10' '20' '30' 'огурец']\n",
      "Операции с двумя множествами: \n",
      "a or b = ['0' '1' '2' '3' '4' '5' '6' 'капуста' 'огурец']\n",
      "b or c = ['0' '1' '10' '20' '3' '30' '5' '6' 'огурец']\n",
      "a or c = ['0' '1' '10' '2' '20' '30' '4' '6' 'капуста' 'огурец']\n",
      "a and b = ['0' '1' '6']\n",
      "b and c = ['0' '1' 'огурец']\n",
      "a and c = ['0' '1']\n",
      "a - b = ['2' '4' 'капуста']\n",
      "b - a = ['3' '5' 'огурец']\n",
      "a - c = ['2' '4' '6' 'капуста']\n",
      "c - a = ['10' '20' '30' 'огурец']\n",
      "b - c = ['3' '5' '6']\n",
      "c - b = ['10' '20' '30']\n",
      "a - c = ['2' '4' '6' 'капуста']\n",
      "c - a = ['10' '20' '30' 'огурец']\n",
      "a xor b = ['2' '3' '4' '5' 'капуста' 'огурец']\n",
      "b xor c = ['10' '20' '3' '30' '5' '6']\n",
      "a xor c = ['10' '2' '20' '30' '4' '6' 'капуста' 'огурец']\n",
      "Операции с тремя множествами:\n",
      "a or b or c = ['0' '1' '10' '2' '20' '3' '30' '4' '5' '6' 'капуста' 'огурец']\n",
      "a and b and c = ['0' '1']\n",
      "a xor b xor c = ['0' '1' '10' '2' '20' '3' '30' '4' '5' 'капуста']\n"
     ]
    }
   ],
   "source": [
    "import numpy as np\n",
    "a = np.array([0, 1, 2, 4, 6, 'капуста'])\n",
    "b = np.array([0, 1, 3, 5, 6, 'огурец'])\n",
    "c = np.array([0, 1, 10, 20, 30, 'огурец'])\n",
    "print(f'a= {a}')\n",
    "print(f'b= {b}')\n",
    "print(f'c= {c}')\n",
    "print('Операции с двумя множествами: ')\n",
    "print(f'a or b = {np.union1d(a, b)}')\n",
    "print(f'b or c = {np.union1d(b, c)}')\n",
    "print(f'a or c = {np.union1d(a, c)}')\n",
    "print(f'a and b = {np.intersect1d(a, b)}')\n",
    "print(f'b and c = {np.intersect1d(b, c)}')\n",
    "print(f'a and c = {np.intersect1d(a, c)}')\n",
    "print(f'a - b = {np.setdiff1d(a, b)}')\n",
    "print(f'b - a = {np.setdiff1d(b, a)}')\n",
    "print(f'a - c = {np.setdiff1d(a, c)}')\n",
    "print(f'c - a = {np.setdiff1d(c, a)}')\n",
    "print(f'b - c = {np.setdiff1d(b, c)}')\n",
    "print(f'c - b = {np.setdiff1d(c, b)}')\n",
    "print(f'a - c = {np.setdiff1d(a, c)}')\n",
    "print(f'c - a = {np.setdiff1d(c, a)}')\n",
    "print(f'a xor b = {np.setxor1d(a, b)}')\n",
    "print(f'b xor c = {np.setxor1d(b, c)}')\n",
    "print(f'a xor c = {np.setxor1d(a, c)}')\n",
    "print('Операции с тремя множествами:')\n",
    "print(f'a or b or c = {np.union1d(a, np.union1d(b, c))}')\n",
    "print(f'a and b and c = {np.intersect1d(a, np.intersect1d(b, c))}')\n",
    "print(f'a xor b xor c = {np.setxor1d(a, np.setxor1d(b, c))}')"
   ]
  },
  {
   "cell_type": "code",
   "execution_count": null,
   "id": "626ce635",
   "metadata": {},
   "outputs": [],
   "source": []
  }
 ],
 "metadata": {
  "kernelspec": {
   "display_name": "Python 3",
   "language": "python",
   "name": "python3"
  },
  "language_info": {
   "codemirror_mode": {
    "name": "ipython",
    "version": 3
   },
   "file_extension": ".py",
   "mimetype": "text/x-python",
   "name": "python",
   "nbconvert_exporter": "python",
   "pygments_lexer": "ipython3",
   "version": "3.8.8"
  }
 },
 "nbformat": 4,
 "nbformat_minor": 5
}
