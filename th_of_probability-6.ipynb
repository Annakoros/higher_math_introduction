{
 "cells": [
  {
   "cell_type": "code",
   "execution_count": 15,
   "id": "358b4fcf",
   "metadata": {},
   "outputs": [
    {
     "name": "stdout",
     "output_type": "stream",
     "text": [
      "Ковариация арифметическая 9157.84\n",
      "Ковариация \"функциональная\" 10175.37777777778\n",
      "Ковариация программная [[ 3882.93333333 10175.37777778]\n",
      " [10175.37777778 33854.32222222]]\n",
      "Коэффициент корреляции Пирсона по функциям 0.8874900920739164\n",
      "Коэффициент корреляции Пирсона numpy[[1.         0.88749009]\n",
      " [0.88749009 1.        ]]\n"
     ]
    }
   ],
   "source": [
    "#Задача 1\n",
    "#Даны значения величины заработной платы заемщиков банка (salary) \n",
    "#и значения их поведенческого кредитного скоринга (scoring):\n",
    "#salary = [35, 45, 190, 200, 40, 70, 54, 150, 120, 110]\n",
    "#scoring = [401, 574, 874, 919, 459, 739, 653, 902, 746, 832]\n",
    "#1. Найдите ковариацию этих двух величин: сначала без использования специальных функций, а затем с помощью функции numpy.cov. \n",
    "#Полученные значения должны быть равны.\n",
    "import numpy as np\n",
    "import pandas as pd\n",
    "\n",
    "salary = np.array([35, 45, 190, 200, 40, 70, 54, 150, 120, 110])\n",
    "scoring = np.array([401, 574, 874, 919, 459, 739, 653, 902, 746, 832])\n",
    "n = 10\n",
    "mx_salary = np.sum(salary) / n\n",
    "my_scoring = np.sum(scoring) / n\n",
    "xmx_ymy = []\n",
    "for k in range(0,10):\n",
    "    xmx_ymy.append((salary[k] - mx_salary)*(scoring[k] - my_scoring))\n",
    "covariation = np.sum(xmx_ymy) / n\n",
    "\n",
    "X = salary\n",
    "Y = scoring\n",
    "MX = X.mean()\n",
    "MY = Y.mean()\n",
    "covariation_2 = ((X-MX)*(Y-MY)).sum() / (X.shape[0] - 1)\n",
    "\n",
    "py_covariation = np.cov(salary, scoring)\n",
    "print(f'Ковариация арифметическая {covariation}')\n",
    "print(f'Ковариация \"функциональная\" {covariation_2}')\n",
    "print(f'Ковариация программная {py_covariation}')\n",
    "\n",
    "#2. Найдите коэффициент корреляции Пирсона: с помощью ковариации и средних квадратических отклонений двух признаков, \n",
    "#а затем с помощью специальных функций из библиотек numpy и pandas.\n",
    "\n",
    "pirson = covariation_2 / (X.std(ddof = 1) * Y.std(ddof=1))\n",
    "py_pirson = np.corrcoef(X,Y)\n",
    "\n",
    "print(f'Коэффициент корреляции Пирсона по функциям {pirson}')\n",
    "print(f'Коэффициент корреляции Пирсона numpy {py_pirson}')"
   ]
  },
  {
   "cell_type": "code",
   "execution_count": 21,
   "id": "54f0e460",
   "metadata": {},
   "outputs": [
    {
     "name": "stdout",
     "output_type": "stream",
     "text": [
      "Доверительный интервал (111.56384743341334, 124.63615256658665)\n"
     ]
    }
   ],
   "source": [
    "#Задача 2\n",
    "#Измерены значения IQ выборки студентов, обучающихся в местных технических вузах:\n",
    "#131, 125, 115, 122, 131, 115, 107, 99, 125, 111\n",
    "#Известно, что в генеральной совокупности IQ распределен нормально. \n",
    "#Найдите доверительный интервал для математического ожидания с надежностью 0.95.\n",
    "import numpy as np\n",
    "import scipy.stats as sps\n",
    "\n",
    "X = np.array([131, 125, 115, 122, 131, 115, 107, 99, 125, 111])\n",
    "p = 0.95\n",
    "mean = X.mean()\n",
    "std = X.std(ddof=1)\n",
    "n = X.shape[0]\n",
    "\n",
    "alpha = 1 - p\n",
    "t1 = sps.norm.ppf(alpha/2)\n",
    "t2 = sps.norm.ppf(1 - alpha/2)\n",
    "\n",
    "print(f'Доверительный интервал {(mean + t1 * std / np.sqrt(n), mean + t2 * std / np.sqrt(n))}')"
   ]
  },
  {
   "cell_type": "code",
   "execution_count": 22,
   "id": "53108e90",
   "metadata": {},
   "outputs": [
    {
     "name": "stdout",
     "output_type": "stream",
     "text": [
      "Доверительный интервал (172.3140237765397, 176.08597622346028)\n"
     ]
    }
   ],
   "source": [
    "#Задача 3\n",
    "#Известно, что рост футболистов в сборной распределен нормально с известной дисперсией 25. \n",
    "#На выборке объёма 27 выборочное среднее составило 174.2. \n",
    "#Найдите доверительный интервал для математического ожидания с надежностью 0.95.\n",
    "import numpy as np\n",
    "import scipy.stats as sps\n",
    "\n",
    "p = 0.95\n",
    "mean = 174.2\n",
    "std = np.sqrt(25)\n",
    "n = 27\n",
    "\n",
    "alpha = 1 - p\n",
    "t1 = sps.norm.ppf(alpha/2)\n",
    "t2 = sps.norm.ppf(1 - alpha/2)\n",
    "\n",
    "print(f'Доверительный интервал {(mean + t1 * std / np.sqrt(n), mean + t2 * std / np.sqrt(n))}')"
   ]
  },
  {
   "cell_type": "code",
   "execution_count": null,
   "id": "04e506f7",
   "metadata": {},
   "outputs": [],
   "source": [
    "#Задача 4\n",
    "#Выберите тему для проектной работы по курсу Теории вероятностей и математической статистики \n",
    "#и напишите ее в комментарии к Практическому заданию."
   ]
  }
 ],
 "metadata": {
  "kernelspec": {
   "display_name": "Python 3",
   "language": "python",
   "name": "python3"
  },
  "language_info": {
   "codemirror_mode": {
    "name": "ipython",
    "version": 3
   },
   "file_extension": ".py",
   "mimetype": "text/x-python",
   "name": "python",
   "nbconvert_exporter": "python",
   "pygments_lexer": "ipython3",
   "version": "3.8.8"
  }
 },
 "nbformat": 4,
 "nbformat_minor": 5
}
