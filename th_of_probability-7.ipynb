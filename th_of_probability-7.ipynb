{
 "cells": [
  {
   "cell_type": "code",
   "execution_count": 26,
   "id": "bab9a134",
   "metadata": {},
   "outputs": [
    {
     "data": {
      "text/plain": [
       "((10, 2), (1, 10))"
      ]
     },
     "execution_count": 26,
     "metadata": {},
     "output_type": "execute_result"
    }
   ],
   "source": [
    "#Задача 1 \n",
    "#Дана матрица объект-признак \n",
    "#X = [[ 1.22401313, 2.30868478, 3.03636353, 2.69287214], \n",
    "#[-0.18757272, 1.30337355, 5.12093014, 3.46363202], \n",
    "#[-0.81094525, 1.82463398, 5.79686488, 1.86159445], \n",
    "#[ 0.75129018, 2.67392052, 3.65529809, 1.66746094], \n",
    "#[ 0.00972362, 1.97367255, 2.50594319, 1.69755173], \n",
    "#[-0.62972637, 0.77750764, 2.84124027, 4.54410559], \n",
    "#[ 2.29536229, 1.81206697, 1.95026215, 1.51874636], \n",
    "#[ 0.0920418 , 2.26971361, 7.47708735, 2.61081203], \n",
    "#[ 2.39252799, 3.17563985, 3.61420599, 5.10773362], \n",
    "#[ 0.54983815, 2.87988651, 1.65752765, 1.59635987]] \n",
    "# \n",
    "#и значения целевой переменной \n",
    "# \n",
    "#y = [ 9.26193358, 9.700363 , 8.67214805, 8.74796974, 6.18689108, \n",
    "#7.53312713, 7.57643777, 12.44965478, 14.29010746, 6.68361218] \n",
    "# \n",
    "#Подберите два признака (из четырёх) так, чтобы уровень линейной зависимости целевой переменной \n",
    "#от значений этих признаков был максимальным. \n",
    "#Другими словами, модель линейной регрессии на этих признаках должна давать наилучший результат. \n",
    "#Является ли значимым получившееся уравнение регрессии?\n",
    "\n",
    "import numpy as np\n",
    "\n",
    "X = np.array([[ 1.22401313, 2.30868478, 3.03636353, 2.69287214], \n",
    "              [-0.18757272, 1.30337355, 5.12093014, 3.46363202], \n",
    "              [-0.81094525, 1.82463398, 5.79686488, 1.86159445], \n",
    "              [ 0.75129018, 2.67392052, 3.65529809, 1.66746094], \n",
    "              [ 0.00972362, 1.97367255, 2.50594319, 1.69755173], \n",
    "              [-0.62972637, 0.77750764, 2.84124027, 4.54410559], \n",
    "              [ 2.29536229, 1.81206697, 1.95026215, 1.51874636], \n",
    "              [ 0.0920418 , 2.26971361, 7.47708735, 2.61081203], \n",
    "              [ 2.39252799, 3.17563985, 3.61420599, 5.10773362], \n",
    "              [ 0.54983815, 2.87988651, 1.65752765, 1.59635987]])\n",
    "\n",
    "y = np.array([[ 9.26193358, 9.700363 , 8.67214805, 8.74796974, 6.18689108, \n",
    "               7.53312713, 7.57643777, 12.44965478, 14.29010746, 6.68361218] ])\n",
    "\n",
    "XT = X.transpose() \n",
    "x12 = np.array([XT[0],XT[1]]) \n",
    "x13 = np.array([XT[0],XT[2]]) \n",
    "x14 = np.array([XT[0],XT[3]]) \n",
    "x23 = np.array([XT[1],XT[2]]) \n",
    "x24 = np.array([XT[1],XT[3]]) \n",
    "x34 = np.array([XT[2],XT[3]]) \n",
    "\n",
    "x12 = x12.transpose() \n",
    "x13 = x13.transpose() \n",
    "x14 = x14.transpose() \n",
    "x23 = x23.transpose() \n",
    "x24 = x24.transpose() \n",
    "x34 = x34.transpose() \n",
    "\n",
    "combinations_arr = np.array([x12, x13, x14, x23, x24, x34])\n",
    "x12.shape, y.shape"
   ]
  },
  {
   "cell_type": "code",
   "execution_count": 41,
   "id": "a5045dd2",
   "metadata": {},
   "outputs": [
    {
     "name": "stdout",
     "output_type": "stream",
     "text": [
      "[0.18113594742585204, 0.7634246238793152, 0.4532966783144079, 0.5479482734039012, 0.6062055761129932, 0.6224419876505323]\n",
      "0.7634246238793152 [[ 1.22401313  3.03636353]\n",
      " [-0.18757272  5.12093014]\n",
      " [-0.81094525  5.79686488]\n",
      " [ 0.75129018  3.65529809]\n",
      " [ 0.00972362  2.50594319]\n",
      " [-0.62972637  2.84124027]\n",
      " [ 2.29536229  1.95026215]\n",
      " [ 0.0920418   7.47708735]\n",
      " [ 2.39252799  3.61420599]\n",
      " [ 0.54983815  1.65752765]]\n"
     ]
    }
   ],
   "source": [
    "def sum_of_sq(samples):\n",
    "    return ((samples - samples.mean())**2).sum()\n",
    "R_arr = []\n",
    "#ones = np.ones((10, 1))\n",
    "from sklearn.linear_model import LinearRegression\n",
    "\n",
    "for x_ in combinations_arr:\n",
    "    y = y.transpose()\n",
    "    model_ = LinearRegression().fit(x_, y)\n",
    "    b = np.array([model_.intercept_[0], model_.coef_[0][0], model_.coef_[0][1]])\n",
    "    x__ = []\n",
    "    for el2 in x_:\n",
    "        x__.extend([[1., el2[0],el2[1]]])\n",
    "    x__ = np.array(x__)\n",
    "        \n",
    "    z = x__.dot(b)\n",
    "    y = y.transpose()\n",
    "    R_ = 1 - (((y - z)**2).sum() / sum_of_sq(y))\n",
    "    R_arr.append(R_)\n",
    "\n",
    "print(R_arr)\n",
    "best_ind = R_arr.index(max(R_arr))\n",
    "best_R = R_arr[best_ind]\n",
    "print(best_R, combinations_arr[best_ind])"
   ]
  },
  {
   "cell_type": "code",
   "execution_count": 44,
   "id": "c5f47cea",
   "metadata": {},
   "outputs": [
    {
     "name": "stdout",
     "output_type": "stream",
     "text": [
      "k1, k2 = (2, 7)\n",
      "t = 0.7665477897156643\n",
      "Статистика равна 11.29443912292265\n",
      "Статистика попадает в критическую область, следовательно построенная модель значима\n"
     ]
    }
   ],
   "source": [
    "#Видим, что наилучший результат дают данные из столбцов факторов х: 1 и 3\n",
    "from scipy import stats\n",
    "n = 10\n",
    "m = 2\n",
    "k1 = m\n",
    "k2 = n - m - 1\n",
    "print (f'k1, k2 = {k1, k2}')\n",
    "\n",
    "alpha = 0.5\n",
    "t = stats.f.ppf(1 - alpha, k1, k2)\n",
    "print(f't = {t}')\n",
    "\n",
    "F = (best_R / k1) / ((1 - best_R) / k2)\n",
    "print(f'Статистика равна {F}')\n",
    "\n",
    "if F > t:\n",
    "    print('Статистика попадает в критическую область, следовательно построенная модель значима')\n",
    "else:\n",
    "    print('Статистика не попадает в критическую область, следовательно построенная модель незначима')\n",
    "        "
   ]
  },
  {
   "cell_type": "code",
   "execution_count": 32,
   "id": "9a4a90d3",
   "metadata": {},
   "outputs": [
    {
     "name": "stdout",
     "output_type": "stream",
     "text": [
      "Коэффициенты с помощью формул для парной регрессии: (444.1773573243596, 2.620538882402765)\n"
     ]
    }
   ],
   "source": [
    "#Задача 2\n",
    "#Даны значения величины заработной платы заемщиков банка (salary) и значения их поведенческого кредитного скоринга (scoring):\n",
    "#\n",
    "#salary = [35, 45, 190, 200, 40, 70, 54, 150, 120, 110]\n",
    "#scoring = [401, 574, 874, 919, 459, 739, 653, 902, 746, 832]\n",
    "#\n",
    "#Возьмём в качестве признака значение salary, а в качестве целевой переменной - scoring.\n",
    "\n",
    "import numpy as np\n",
    "x1 = np.array([35, 45, 190, 200, 40, 70, 54, 150, 120, 110])\n",
    "y1 = np.array([401, 574, 874, 919, 459, 739, 653, 902, 746, 832])\n",
    "\n",
    "#1. Найдите коэффициенты линейной регрессии с помощью формул для парной регрессии, а затем с помощью метода наименьших квадратов.\n",
    "b1 = (np.mean(x1 * y1) - np.mean(x1) * np.mean(y1)) / (np.mean(x1**2) - np.mean(x1)**2)\n",
    "b0 = np.mean(y1) - b1 * np.mean(x1)\n",
    "\n",
    "print(f'Коэффициенты с помощью формул для парной регрессии: {b0, b1}')\n"
   ]
  },
  {
   "cell_type": "code",
   "execution_count": 56,
   "id": "ff9df652",
   "metadata": {},
   "outputs": [
    {
     "name": "stdout",
     "output_type": "stream",
     "text": [
      "С помощью метода наименьших квадратов: [444.17735732   2.62053888]\n"
     ]
    }
   ],
   "source": [
    "ones = np.ones((x1.shape[0], 1))\n",
    "x1 = x1.reshape(x1.shape[0], 1)\n",
    "x1 = np.hstack((ones, x1))\n",
    "\n",
    "XTX = x1.T.dot(x1)\n",
    "\n",
    "np.linalg.det(XTX)\n",
    "XTX_inv = np.linalg.inv(XTX)\n",
    "b = XTX_inv.dot(x1.T).dot(y1)\n",
    "\n",
    "print(f'С помощью метода наименьших квадратов: {b}')"
   ]
  },
  {
   "cell_type": "code",
   "execution_count": 27,
   "id": "10425cab",
   "metadata": {},
   "outputs": [
    {
     "data": {
      "text/plain": [
       "Text(0, 0.5, 'scoring')"
      ]
     },
     "execution_count": 27,
     "metadata": {},
     "output_type": "execute_result"
    },
    {
     "data": {
      "image/png": "[encoded data removed]",
      "text/plain": [
       "<Figure size 432x288 with 1 Axes>"
      ]
     },
     "metadata": {},
     "output_type": "display_data"
    }
   ],
   "source": [
    "#2. Постройте scatter plot по данным и отметьте на нём прямую линейной регрессии, полученную в п. 1.\n",
    "\n",
    "from matplotlib import pyplot as plt\n",
    "plt.style.use('seaborn-whitegrid')\n",
    "\n",
    "ox = x1\n",
    "oy = b0 + b1 * ox\n",
    "\n",
    "plt.scatter(x1, y1)\n",
    "plt.plot(ox, oy, color='red', alpha=0.5)\n",
    "\n",
    "plt.xlabel('salary')\n",
    "plt.ylabel('scoring')"
   ]
  },
  {
   "cell_type": "code",
   "execution_count": 28,
   "id": "b112ff50",
   "metadata": {},
   "outputs": [
    {
     "data": {
      "text/plain": [
       "0.7876386635293686"
      ]
     },
     "execution_count": 28,
     "metadata": {},
     "output_type": "execute_result"
    }
   ],
   "source": [
    "#3. Посчитайте коэффициент детерминации.\n",
    "z1 = b0 + b1 * x1\n",
    "\n",
    "def sum_of_squares(samples):\n",
    "    return ((samples - samples.mean())**2).sum()\n",
    "\n",
    "R1 = 1 - ((y1 - z1)**2).sum() / sum_of_squares(y1)\n",
    "R1"
   ]
  },
  {
   "cell_type": "code",
   "execution_count": 32,
   "id": "50f5a7f9",
   "metadata": {},
   "outputs": [
    {
     "data": {
      "text/plain": [
       "(1, 8)"
      ]
     },
     "execution_count": 32,
     "metadata": {},
     "output_type": "execute_result"
    }
   ],
   "source": [
    "#4. Оцените построенное уравнение регрессии с помощью F-критерия Фишера.\n",
    "n = x1.shape[0]\n",
    "m = 1\n",
    "\n",
    "k1 = m\n",
    "k2 = n - m - 1\n",
    "\n",
    "k1, k2"
   ]
  },
  {
   "cell_type": "code",
   "execution_count": 33,
   "id": "8279ba9c",
   "metadata": {},
   "outputs": [
    {
     "data": {
      "text/plain": [
       "0.49898204652384914"
      ]
     },
     "execution_count": 33,
     "metadata": {},
     "output_type": "execute_result"
    }
   ],
   "source": [
    "from scipy import stats\n",
    "\n",
    "alpha = 0.5\n",
    "\n",
    "t = stats.f.ppf(1 - alpha, k1, k2)\n",
    "t"
   ]
  },
  {
   "cell_type": "code",
   "execution_count": 34,
   "id": "8a361f3d",
   "metadata": {},
   "outputs": [
    {
     "data": {
      "text/plain": [
       "<matplotlib.collections.PolyCollection at 0x208cfc5a8b0>"
      ]
     },
     "execution_count": 34,
     "metadata": {},
     "output_type": "execute_result"
    },
    {
     "data": {
      "image/png": "[encoded data removed]",
      "text/plain": [
       "<Figure size 432x288 with 1 Axes>"
      ]
     },
     "metadata": {},
     "output_type": "display_data"
    }
   ],
   "source": [
    "ox = np.linspace(0, 6, 500)\n",
    "oy = stats.f.pdf(ox, k1, k2)\n",
    "\n",
    "ox_right = np.linspace(t, 6, 100)\n",
    "oy_right = stats.f.pdf(ox_right, k1, k2)\n",
    "\n",
    "plt.plot(ox, oy)\n",
    "plt.fill_between(ox_right, oy_right, alpha = 0.5)"
   ]
  },
  {
   "cell_type": "code",
   "execution_count": 35,
   "id": "80e8bad5",
   "metadata": {},
   "outputs": [
    {
     "data": {
      "text/plain": [
       "29.67164085966451"
      ]
     },
     "execution_count": 35,
     "metadata": {},
     "output_type": "execute_result"
    }
   ],
   "source": [
    "F = (R1 / k1) / ((1 - R1) / k2)\n",
    "F\n",
    "#Статистика попала в критическую область, следовательно уравнение регрессии признается значимым"
   ]
  },
  {
   "cell_type": "code",
   "execution_count": 36,
   "id": "430b3da6",
   "metadata": {},
   "outputs": [],
   "source": [
    "#5. Оцените значимость получившихся параметров уравнения регрессии и постройте для них доверительные интервалы с помощью t-статистики Стьюдента.\n",
    "def standard_error_slope(\n",
    "        x: np.ndarray,\n",
    "        y: np.ndarray,\n",
    "        z: np.ndarray,\n",
    ") -> float:\n",
    "    n = x.shape[0]\n",
    "    \n",
    "    upper = ((y - z) ** 2).sum() / (n - 2)\n",
    "    lower = ((x - x.mean()) ** 2).sum()\n",
    "    \n",
    "    return np.sqrt(upper / lower)\n",
    "    \n",
    "#6. (доп) Посчитать среднюю ошибку аппроксимации"
   ]
  },
  {
   "cell_type": "code",
   "execution_count": 37,
   "id": "f0af6c40",
   "metadata": {},
   "outputs": [
    {
     "data": {
      "text/plain": [
       "0.48108279568516005"
      ]
     },
     "execution_count": 37,
     "metadata": {},
     "output_type": "execute_result"
    }
   ],
   "source": [
    "s_slope = standard_error_slope(x1, y1, z1)\n",
    "s_slope"
   ]
  },
  {
   "cell_type": "code",
   "execution_count": 38,
   "id": "1c30f994",
   "metadata": {},
   "outputs": [
    {
     "data": {
      "text/plain": [
       "(-0.7063866126448144, 0.7063866126448144)"
      ]
     },
     "execution_count": 38,
     "metadata": {},
     "output_type": "execute_result"
    }
   ],
   "source": [
    "alpha = 0.5\n",
    "n = x1.shape[0]\n",
    "t1 = stats.t.ppf(alpha / 2, df=n - 2)\n",
    "t2 = stats.t.ppf(1 - alpha / 2, df=n - 2)\n",
    "\n",
    "t1, t2"
   ]
  },
  {
   "cell_type": "code",
   "execution_count": 39,
   "id": "0d433f49",
   "metadata": {},
   "outputs": [
    {
     "data": {
      "text/plain": [
       "(2.2807084359570275, 2.9603693288485022)"
      ]
     },
     "execution_count": 39,
     "metadata": {},
     "output_type": "execute_result"
    }
   ],
   "source": [
    "(b1 + t1 * s_slope, b1 + t2 * s_slope)"
   ]
  },
  {
   "cell_type": "code",
   "execution_count": 40,
   "id": "52ccbfaa",
   "metadata": {},
   "outputs": [],
   "source": [
    "def standard_error_intercept(\n",
    "        x: np.ndarray,\n",
    "        y: np.ndarray,\n",
    "        z: np.ndarray,\n",
    ") -> float:\n",
    "    n = x.shape[0]\n",
    "    \n",
    "    upper = ((y - z) ** 2).sum() / (n - 2)\n",
    "    lower = ((x - x.mean()) ** 2).sum()\n",
    "    \n",
    "    return standard_error_slope(x, y, z) * np.sqrt((x ** 2).mean())"
   ]
  },
  {
   "cell_type": "code",
   "execution_count": 42,
   "id": "1bcc6467",
   "metadata": {},
   "outputs": [
    {
     "data": {
      "text/plain": [
       "56.46649755068153"
      ]
     },
     "execution_count": 42,
     "metadata": {},
     "output_type": "execute_result"
    }
   ],
   "source": [
    "s_intercept = standard_error_intercept(x1, y1, z1)\n",
    "s_intercept"
   ]
  },
  {
   "cell_type": "code",
   "execution_count": 43,
   "id": "cbcf9269",
   "metadata": {},
   "outputs": [
    {
     "data": {
      "text/plain": [
       "(404.29017939161696, 484.06453525710225)"
      ]
     },
     "execution_count": 43,
     "metadata": {},
     "output_type": "execute_result"
    }
   ],
   "source": [
    "(b0 + t1 * s_intercept, b0 + t2 * s_intercept)"
   ]
  },
  {
   "cell_type": "code",
   "execution_count": null,
   "id": "498f4161",
   "metadata": {},
   "outputs": [],
   "source": []
  }
 ],
 "metadata": {
  "kernelspec": {
   "display_name": "Python 3",
   "language": "python",
   "name": "python3"
  },
  "language_info": {
   "codemirror_mode": {
    "name": "ipython",
    "version": 3
   },
   "file_extension": ".py",
   "mimetype": "text/x-python",
   "name": "python",
   "nbconvert_exporter": "python",
   "pygments_lexer": "ipython3",
   "version": "3.8.8"
  }
 },
 "nbformat": 4,
 "nbformat_minor": 5
}
